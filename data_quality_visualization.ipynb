{
 "cells": [
  {
   "cell_type": "markdown",
   "metadata": {},
   "source": [
    "# <a id='toc1_'></a>[**Data Quality Visualization**](#toc0_)\n",
    "\n",
    "This notebook is for visualizing data quality and checking how acceleration data is associated with signal quality as well as the performance of beat correction algorithms.\n",
    "\n",
    "Required data can be installed from [here](https://www.dropbox.com/scl/fo/89iubvi2wediqwkla8zqe/AMQt1_65qKiwMd4saxfz66M?rlkey=7r8ck6rnm0d0hekhsq1zdmrvm&st=1g6qz2du&dl=0)."
   ]
  },
  {
   "cell_type": "markdown",
   "metadata": {},
   "source": [
    "**Table of contents**<a id='toc0_'></a>    \n",
    "- [**Data Quality Visualization**](#toc1_)    \n",
    "  - [**Import libraries**](#toc1_1_)    \n",
    "  - [**Setting parameters**](#toc1_2_)    \n",
    "  - [**Visualize raw data**](#toc1_3_)    \n",
    "    - [Clean ECG](#toc1_3_1_)    \n",
    "    - [Noisy PPG](#toc1_3_2_)    \n",
    "    - [Noisy PPG 2](#toc1_3_3_)    \n",
    "    - [Noisy ECG](#toc1_3_4_)    \n",
    "    - [Noisy ECG 2](#toc1_3_5_)    \n",
    "    - [Unusable ECG](#toc1_3_6_)    \n",
    "  - [**Visualize artifacts**](#toc1_4_)    \n",
    "    - [**Artifact detection methods**](#toc1_4_1_)    \n",
    "    - [Clean ECG](#toc1_4_2_)    \n",
    "    - [Noisy PPG](#toc1_4_3_)    \n",
    "    - [Noisy PPG 2](#toc1_4_4_)    \n",
    "    - [Noisy ECG](#toc1_4_5_)    \n",
    "    - [Noisy ECG 2](#toc1_4_6_)    \n",
    "    - [Unusable ECG](#toc1_4_7_)    \n",
    "  - [**Beat correction**](#toc1_5_)    \n",
    "    - [Clean ECG](#toc1_5_1_)    \n",
    "    - [Noisy PPG](#toc1_5_2_)    \n",
    "    - [Noisy PPG 2](#toc1_5_3_)    \n",
    "    - [Noisy ECG](#toc1_5_4_)    \n",
    "    - [Noisy ECG 2](#toc1_5_5_)    \n",
    "    - [Unusable ECG](#toc1_5_6_)    \n",
    "  - [**Visualize the association between acceleration data and signal quality**](#toc1_6_)    \n",
    "    - [Noisy ECG](#toc1_6_1_)    \n",
    "      - [Segment size = 300 seconds](#toc1_6_1_1_)    \n",
    "      - [Segment size = 60 seconds](#toc1_6_1_2_)    \n",
    "    - [Noisy ECG 2](#toc1_6_2_)    \n",
    "      - [Segment size = 300 seconds](#toc1_6_2_1_)    \n",
    "      - [Segment size = 60 seconds](#toc1_6_2_2_)    \n",
    "    - [Unusable ECG](#toc1_6_3_)    \n",
    "      - [Segment size = 300 seconds](#toc1_6_3_1_)    \n",
    "      - [Segment size = 60 seconds](#toc1_6_3_2_)    \n",
    "  - [**Visualize the association between acceleration data and beat correction**](#toc1_7_)    \n",
    "    - [Noisy ECG](#toc1_7_1_)    \n",
    "      - [Segment size = 300 seconds](#toc1_7_1_1_)    \n",
    "      - [Segment size = 60 seconds](#toc1_7_1_2_)    \n",
    "    - [Noisy ECG 2](#toc1_7_2_)    \n",
    "      - [Segment size = 300 seconds](#toc1_7_2_1_)    \n",
    "      - [Segment size = 60 seconds](#toc1_7_2_2_)    \n",
    "    - [Unusable ECG](#toc1_7_3_)    \n",
    "      - [Segment size = 300 seconds](#toc1_7_3_1_)    \n",
    "      - [Segment size = 60 seconds](#toc1_7_3_2_)    \n",
    "  - [**Compare ECG and PPG signals from the same session**](#toc1_8_)    \n",
    "\n",
    "<!-- vscode-jupyter-toc-config\n",
    "\tnumbering=false\n",
    "\tanchor=true\n",
    "\tflat=false\n",
    "\tminLevel=1\n",
    "\tmaxLevel=6\n",
    "\t/vscode-jupyter-toc-config -->\n",
    "<!-- THIS CELL WILL BE REPLACED ON TOC UPDATE. DO NOT WRITE YOUR TEXT IN THIS CELL -->"
   ]
  },
  {
   "cell_type": "markdown",
   "metadata": {},
   "source": [
    "## <a id='toc1_1_'></a>[**Import libraries**](#toc0_)"
   ]
  },
  {
   "cell_type": "code",
   "execution_count": 1,
   "metadata": {},
   "outputs": [],
   "source": [
    "import pandas as pd\n",
    "import numpy as np\n",
    "import matplotlib.pyplot as plt\n",
    "from sys import path\n",
    "path.append('./core/')\n",
    "from heartview_sqa_cardio import Cardio\n",
    "import ECG\n",
    "import PPG\n",
    "path.append('./utils/')\n",
    "import data_visualization as dv\n",
    "import signal_quality_analysis as sqa"
   ]
  },
  {
   "cell_type": "markdown",
   "metadata": {},
   "source": [
    "## <a id='toc1_2_'></a>[**Setting parameters**](#toc0_)"
   ]
  },
  {
   "cell_type": "code",
   "execution_count": 2,
   "metadata": {},
   "outputs": [],
   "source": [
    "# Data directory\n",
    "data_dir = './data/'\n",
    "mims_data_dir = './data/mims/'\n",
    "\n",
    "# Data files\n",
    "clean_mindware_file = 'clean_mindware_ecg_1000.csv'\n",
    "clean_movisens_file = 'clean_movisens_ecg_1024.csv'\n",
    "empatica_1_file = 'empatica-1_bvp_64.csv'\n",
    "empatica_2_file = 'empatica-2_bvp_64.csv'\n",
    "empatica_3_file = 'empatica-2_bvp_64.csv'\n",
    "noisy_actiwave_1_file = 'noisy_actiwave_ecg_acc-1_1024.csv'\n",
    "noisy_actiwave_2_file = 'noisy_actiwave_ecg_acc-2_1024.csv'\n",
    "unusable_ecg_file = 'unusable_ecg_acc_1024.csv'\n",
    "\n",
    "# MIMS data\n",
    "mims_actiwave_1_file = 'noisy_actiwave_ecg_acc-1_1024_mims.csv'\n",
    "mims_actiwave_2_file = 'noisy_actiwave_ecg_acc-2_1024_mims.csv'\n",
    "mims_unusable_ecg_file = 'unusable_ecg_acc_1024_mims.csv'"
   ]
  },
  {
   "cell_type": "code",
   "execution_count": 3,
   "metadata": {},
   "outputs": [],
   "source": [
    "# Set sampling frequencies\n",
    "fs_mindware = 1000\n",
    "fs_movisens = 1024\n",
    "fs_empatica = 64\n",
    "fs_actiwave = 1024\n",
    "fs_unusable_ecg = 1024"
   ]
  },
  {
   "cell_type": "markdown",
   "metadata": {},
   "source": [
    "## <a id='toc1_3_'></a>[**Visualize raw data**](#toc0_)\n",
    "\n",
    "First, plot raw data and check signal quality."
   ]
  },
  {
   "cell_type": "code",
   "execution_count": 4,
   "metadata": {},
   "outputs": [],
   "source": [
    "def beat_detection_ecg(df: pd.DataFrame, fs: int, colname: str):\n",
    "    # Filter ECG\n",
    "    Filter = ECG.Filters(fs=fs, powerline_freq=60)\n",
    "    df['Filtered ECG'] = Filter.filter_signal(df[colname])\n",
    "\n",
    "    # Detect R-peaks\n",
    "    BeatDetector = ECG.BeatDetectors(fs=fs, preprocessed=True)\n",
    "    ecg_beats = BeatDetector.manikandan(signal=df['Filtered ECG'], adaptive_threshold=True)\n",
    "    df['Peak'] = np.nan\n",
    "    df.loc[df.index.isin(ecg_beats), 'Peak'] = 1\n",
    "\n",
    "    return ecg_beats, df\n",
    "\n",
    "def beat_detection_ppg(df: pd.DataFrame, fs: int, colname: str):\n",
    "    # Filter PPG\n",
    "    Filter = PPG.Filters(fs=fs)\n",
    "    df['Filtered BVP'] = Filter.filter_signal(df[colname])\n",
    "\n",
    "    # Detect peaks\n",
    "    BeatDetector = PPG.BeatDetectors(fs=fs, preprocessed=True)\n",
    "    ppg_beats = BeatDetector.erma(signal=df['Filtered BVP'])\n",
    "    df['Peak'] = np.nan\n",
    "    df.loc[df.index.isin(ppg_beats), 'Peak'] = 1\n",
    "    \n",
    "    return ppg_beats, df"
   ]
  },
  {
   "cell_type": "markdown",
   "metadata": {},
   "source": [
    "### <a id='toc1_3_1_'></a>[Clean ECG](#toc0_)"
   ]
  },
  {
   "cell_type": "code",
   "execution_count": 5,
   "metadata": {},
   "outputs": [
    {
     "data": {
      "text/html": [
       "<div>\n",
       "<style scoped>\n",
       "    .dataframe tbody tr th:only-of-type {\n",
       "        vertical-align: middle;\n",
       "    }\n",
       "\n",
       "    .dataframe tbody tr th {\n",
       "        vertical-align: top;\n",
       "    }\n",
       "\n",
       "    .dataframe thead th {\n",
       "        text-align: right;\n",
       "    }\n",
       "</style>\n",
       "<table border=\"1\" class=\"dataframe\">\n",
       "  <thead>\n",
       "    <tr style=\"text-align: right;\">\n",
       "      <th></th>\n",
       "      <th>Time</th>\n",
       "      <th>ECG</th>\n",
       "      <th>Filtered ECG</th>\n",
       "      <th>Peak</th>\n",
       "    </tr>\n",
       "  </thead>\n",
       "  <tbody>\n",
       "    <tr>\n",
       "      <th>0</th>\n",
       "      <td>2024-10-09 12:34:00.000</td>\n",
       "      <td>0.005951</td>\n",
       "      <td>0.000702</td>\n",
       "      <td>NaN</td>\n",
       "    </tr>\n",
       "    <tr>\n",
       "      <th>1</th>\n",
       "      <td>2024-10-09 12:34:00.001</td>\n",
       "      <td>0.005646</td>\n",
       "      <td>0.000939</td>\n",
       "      <td>NaN</td>\n",
       "    </tr>\n",
       "    <tr>\n",
       "      <th>2</th>\n",
       "      <td>2024-10-09 12:34:00.002</td>\n",
       "      <td>0.008392</td>\n",
       "      <td>0.001171</td>\n",
       "      <td>NaN</td>\n",
       "    </tr>\n",
       "    <tr>\n",
       "      <th>3</th>\n",
       "      <td>2024-10-09 12:34:00.003</td>\n",
       "      <td>0.010681</td>\n",
       "      <td>0.001393</td>\n",
       "      <td>NaN</td>\n",
       "    </tr>\n",
       "    <tr>\n",
       "      <th>4</th>\n",
       "      <td>2024-10-09 12:34:00.004</td>\n",
       "      <td>0.008850</td>\n",
       "      <td>0.001601</td>\n",
       "      <td>NaN</td>\n",
       "    </tr>\n",
       "    <tr>\n",
       "      <th>...</th>\n",
       "      <td>...</td>\n",
       "      <td>...</td>\n",
       "      <td>...</td>\n",
       "      <td>...</td>\n",
       "    </tr>\n",
       "    <tr>\n",
       "      <th>959995</th>\n",
       "      <td>2024-10-09 12:49:59.995</td>\n",
       "      <td>0.016937</td>\n",
       "      <td>0.005341</td>\n",
       "      <td>NaN</td>\n",
       "    </tr>\n",
       "    <tr>\n",
       "      <th>959996</th>\n",
       "      <td>2024-10-09 12:49:59.996</td>\n",
       "      <td>0.014496</td>\n",
       "      <td>0.004752</td>\n",
       "      <td>NaN</td>\n",
       "    </tr>\n",
       "    <tr>\n",
       "      <th>959997</th>\n",
       "      <td>2024-10-09 12:49:59.997</td>\n",
       "      <td>0.013733</td>\n",
       "      <td>0.004184</td>\n",
       "      <td>NaN</td>\n",
       "    </tr>\n",
       "    <tr>\n",
       "      <th>959998</th>\n",
       "      <td>2024-10-09 12:49:59.998</td>\n",
       "      <td>0.015411</td>\n",
       "      <td>0.003640</td>\n",
       "      <td>NaN</td>\n",
       "    </tr>\n",
       "    <tr>\n",
       "      <th>959999</th>\n",
       "      <td>2024-10-09 12:49:59.999</td>\n",
       "      <td>0.012665</td>\n",
       "      <td>0.003123</td>\n",
       "      <td>NaN</td>\n",
       "    </tr>\n",
       "  </tbody>\n",
       "</table>\n",
       "<p>960000 rows × 4 columns</p>\n",
       "</div>"
      ],
      "text/plain": [
       "                           Time       ECG  Filtered ECG  Peak\n",
       "0       2024-10-09 12:34:00.000  0.005951      0.000702   NaN\n",
       "1       2024-10-09 12:34:00.001  0.005646      0.000939   NaN\n",
       "2       2024-10-09 12:34:00.002  0.008392      0.001171   NaN\n",
       "3       2024-10-09 12:34:00.003  0.010681      0.001393   NaN\n",
       "4       2024-10-09 12:34:00.004  0.008850      0.001601   NaN\n",
       "...                         ...       ...           ...   ...\n",
       "959995  2024-10-09 12:49:59.995  0.016937      0.005341   NaN\n",
       "959996  2024-10-09 12:49:59.996  0.014496      0.004752   NaN\n",
       "959997  2024-10-09 12:49:59.997  0.013733      0.004184   NaN\n",
       "959998  2024-10-09 12:49:59.998  0.015411      0.003640   NaN\n",
       "959999  2024-10-09 12:49:59.999  0.012665      0.003123   NaN\n",
       "\n",
       "[960000 rows x 4 columns]"
      ]
     },
     "execution_count": 5,
     "metadata": {},
     "output_type": "execute_result"
    }
   ],
   "source": [
    "# Load data\n",
    "clean_mindware = pd.read_csv(data_dir + clean_mindware_file)\n",
    "\n",
    "# Beat detection\n",
    "ecg_beats_clean_mindware, clean_mindware = beat_detection_ecg(df=clean_mindware, fs=fs_mindware, colname='ECG')\n",
    "\n",
    "clean_mindware"
   ]
  },
  {
   "cell_type": "code",
   "execution_count": 6,
   "metadata": {},
   "outputs": [
    {
     "data": {
      "application/vnd.jupyter.widget-view+json": {
       "model_id": "3e9b764700da4b3bab11b3478c20d0fa",
       "version_major": 2,
       "version_minor": 0
      },
      "text/plain": [
       "interactive(children=(IntSlider(value=1, continuous_update=False, description='start_seg', max=16, min=1), Out…"
      ]
     },
     "metadata": {},
     "output_type": "display_data"
    }
   ],
   "source": [
    "# Plot raw data\n",
    "dv.plot_raw_interactive(data = clean_mindware, colname = 'Filtered ECG', time_colname = 'Time', peak_colname='Peak', fs = fs_mindware, seg_sec = 60)"
   ]
  },
  {
   "cell_type": "markdown",
   "metadata": {},
   "source": [
    "### <a id='toc1_3_2_'></a>[Noisy PPG](#toc0_)"
   ]
  },
  {
   "cell_type": "code",
   "execution_count": 7,
   "metadata": {},
   "outputs": [
    {
     "data": {
      "text/html": [
       "<div>\n",
       "<style scoped>\n",
       "    .dataframe tbody tr th:only-of-type {\n",
       "        vertical-align: middle;\n",
       "    }\n",
       "\n",
       "    .dataframe tbody tr th {\n",
       "        vertical-align: top;\n",
       "    }\n",
       "\n",
       "    .dataframe thead th {\n",
       "        text-align: right;\n",
       "    }\n",
       "</style>\n",
       "<table border=\"1\" class=\"dataframe\">\n",
       "  <thead>\n",
       "    <tr style=\"text-align: right;\">\n",
       "      <th></th>\n",
       "      <th>Time</th>\n",
       "      <th>BVP</th>\n",
       "      <th>Filtered BVP</th>\n",
       "      <th>Peak</th>\n",
       "    </tr>\n",
       "  </thead>\n",
       "  <tbody>\n",
       "    <tr>\n",
       "      <th>0</th>\n",
       "      <td>2021-11-15 22:59:26.000000</td>\n",
       "      <td>99.67</td>\n",
       "      <td>-23.316591</td>\n",
       "      <td>NaN</td>\n",
       "    </tr>\n",
       "    <tr>\n",
       "      <th>1</th>\n",
       "      <td>2021-11-15 22:59:26.015625</td>\n",
       "      <td>99.74</td>\n",
       "      <td>-29.033751</td>\n",
       "      <td>NaN</td>\n",
       "    </tr>\n",
       "    <tr>\n",
       "      <th>2</th>\n",
       "      <td>2021-11-15 22:59:26.031250</td>\n",
       "      <td>99.43</td>\n",
       "      <td>-34.843487</td>\n",
       "      <td>NaN</td>\n",
       "    </tr>\n",
       "    <tr>\n",
       "      <th>3</th>\n",
       "      <td>2021-11-15 22:59:26.046875</td>\n",
       "      <td>97.86</td>\n",
       "      <td>-40.644369</td>\n",
       "      <td>NaN</td>\n",
       "    </tr>\n",
       "    <tr>\n",
       "      <th>4</th>\n",
       "      <td>2021-11-15 22:59:26.062500</td>\n",
       "      <td>93.65</td>\n",
       "      <td>-46.355076</td>\n",
       "      <td>NaN</td>\n",
       "    </tr>\n",
       "    <tr>\n",
       "      <th>...</th>\n",
       "      <td>...</td>\n",
       "      <td>...</td>\n",
       "      <td>...</td>\n",
       "      <td>...</td>\n",
       "    </tr>\n",
       "    <tr>\n",
       "      <th>76795</th>\n",
       "      <td>2021-11-15 23:19:25.921875</td>\n",
       "      <td>69.24</td>\n",
       "      <td>-34.630141</td>\n",
       "      <td>NaN</td>\n",
       "    </tr>\n",
       "    <tr>\n",
       "      <th>76796</th>\n",
       "      <td>2021-11-15 23:19:25.937500</td>\n",
       "      <td>77.50</td>\n",
       "      <td>-31.502971</td>\n",
       "      <td>NaN</td>\n",
       "    </tr>\n",
       "    <tr>\n",
       "      <th>76797</th>\n",
       "      <td>2021-11-15 23:19:25.953125</td>\n",
       "      <td>84.17</td>\n",
       "      <td>-27.989845</td>\n",
       "      <td>NaN</td>\n",
       "    </tr>\n",
       "    <tr>\n",
       "      <th>76798</th>\n",
       "      <td>2021-11-15 23:19:25.968750</td>\n",
       "      <td>89.12</td>\n",
       "      <td>-24.166435</td>\n",
       "      <td>NaN</td>\n",
       "    </tr>\n",
       "    <tr>\n",
       "      <th>76799</th>\n",
       "      <td>2021-11-15 23:19:25.984375</td>\n",
       "      <td>92.19</td>\n",
       "      <td>-20.173427</td>\n",
       "      <td>NaN</td>\n",
       "    </tr>\n",
       "  </tbody>\n",
       "</table>\n",
       "<p>76800 rows × 4 columns</p>\n",
       "</div>"
      ],
      "text/plain": [
       "                             Time    BVP  Filtered BVP  Peak\n",
       "0      2021-11-15 22:59:26.000000  99.67    -23.316591   NaN\n",
       "1      2021-11-15 22:59:26.015625  99.74    -29.033751   NaN\n",
       "2      2021-11-15 22:59:26.031250  99.43    -34.843487   NaN\n",
       "3      2021-11-15 22:59:26.046875  97.86    -40.644369   NaN\n",
       "4      2021-11-15 22:59:26.062500  93.65    -46.355076   NaN\n",
       "...                           ...    ...           ...   ...\n",
       "76795  2021-11-15 23:19:25.921875  69.24    -34.630141   NaN\n",
       "76796  2021-11-15 23:19:25.937500  77.50    -31.502971   NaN\n",
       "76797  2021-11-15 23:19:25.953125  84.17    -27.989845   NaN\n",
       "76798  2021-11-15 23:19:25.968750  89.12    -24.166435   NaN\n",
       "76799  2021-11-15 23:19:25.984375  92.19    -20.173427   NaN\n",
       "\n",
       "[76800 rows x 4 columns]"
      ]
     },
     "execution_count": 7,
     "metadata": {},
     "output_type": "execute_result"
    }
   ],
   "source": [
    "# Load data\n",
    "empatica_1 = pd.read_csv(data_dir + empatica_1_file)\n",
    "\n",
    "# Beat detection\n",
    "ppg_beats_empatica_1, empatica_1 = beat_detection_ppg(df=empatica_1, fs=fs_empatica, colname='BVP')\n",
    "\n",
    "empatica_1"
   ]
  },
  {
   "cell_type": "code",
   "execution_count": 8,
   "metadata": {},
   "outputs": [
    {
     "data": {
      "application/vnd.jupyter.widget-view+json": {
       "model_id": "34a1e9a14d9e4d51ad08d6487b3bf138",
       "version_major": 2,
       "version_minor": 0
      },
      "text/plain": [
       "interactive(children=(IntSlider(value=1, continuous_update=False, description='start_seg', max=20, min=1), Out…"
      ]
     },
     "metadata": {},
     "output_type": "display_data"
    }
   ],
   "source": [
    "# Plot raw data\n",
    "dv.plot_raw_interactive(data = empatica_1, colname = 'Filtered BVP', time_colname = 'Time', peak_colname='Peak', fs = fs_empatica, seg_sec = 60)"
   ]
  },
  {
   "cell_type": "markdown",
   "metadata": {},
   "source": [
    "### <a id='toc1_3_3_'></a>[Noisy PPG 2](#toc0_)"
   ]
  },
  {
   "cell_type": "code",
   "execution_count": 9,
   "metadata": {},
   "outputs": [
    {
     "data": {
      "text/html": [
       "<div>\n",
       "<style scoped>\n",
       "    .dataframe tbody tr th:only-of-type {\n",
       "        vertical-align: middle;\n",
       "    }\n",
       "\n",
       "    .dataframe tbody tr th {\n",
       "        vertical-align: top;\n",
       "    }\n",
       "\n",
       "    .dataframe thead th {\n",
       "        text-align: right;\n",
       "    }\n",
       "</style>\n",
       "<table border=\"1\" class=\"dataframe\">\n",
       "  <thead>\n",
       "    <tr style=\"text-align: right;\">\n",
       "      <th></th>\n",
       "      <th>Time</th>\n",
       "      <th>BVP</th>\n",
       "      <th>Filtered BVP</th>\n",
       "      <th>Peak</th>\n",
       "    </tr>\n",
       "  </thead>\n",
       "  <tbody>\n",
       "    <tr>\n",
       "      <th>0</th>\n",
       "      <td>2021-11-16 19:46:04.000000</td>\n",
       "      <td>7.08</td>\n",
       "      <td>-9.445512</td>\n",
       "      <td>NaN</td>\n",
       "    </tr>\n",
       "    <tr>\n",
       "      <th>1</th>\n",
       "      <td>2021-11-16 19:46:04.015625</td>\n",
       "      <td>4.10</td>\n",
       "      <td>-10.536238</td>\n",
       "      <td>NaN</td>\n",
       "    </tr>\n",
       "    <tr>\n",
       "      <th>2</th>\n",
       "      <td>2021-11-16 19:46:04.031250</td>\n",
       "      <td>1.03</td>\n",
       "      <td>-11.603082</td>\n",
       "      <td>NaN</td>\n",
       "    </tr>\n",
       "    <tr>\n",
       "      <th>3</th>\n",
       "      <td>2021-11-16 19:46:04.046875</td>\n",
       "      <td>-1.95</td>\n",
       "      <td>-12.591670</td>\n",
       "      <td>NaN</td>\n",
       "    </tr>\n",
       "    <tr>\n",
       "      <th>4</th>\n",
       "      <td>2021-11-16 19:46:04.062500</td>\n",
       "      <td>-4.74</td>\n",
       "      <td>-13.450931</td>\n",
       "      <td>NaN</td>\n",
       "    </tr>\n",
       "    <tr>\n",
       "      <th>...</th>\n",
       "      <td>...</td>\n",
       "      <td>...</td>\n",
       "      <td>...</td>\n",
       "      <td>...</td>\n",
       "    </tr>\n",
       "    <tr>\n",
       "      <th>57595</th>\n",
       "      <td>2021-11-16 20:01:03.921875</td>\n",
       "      <td>21.14</td>\n",
       "      <td>11.403494</td>\n",
       "      <td>NaN</td>\n",
       "    </tr>\n",
       "    <tr>\n",
       "      <th>57596</th>\n",
       "      <td>2021-11-16 20:01:03.937500</td>\n",
       "      <td>21.08</td>\n",
       "      <td>11.128109</td>\n",
       "      <td>NaN</td>\n",
       "    </tr>\n",
       "    <tr>\n",
       "      <th>57597</th>\n",
       "      <td>2021-11-16 20:01:03.953125</td>\n",
       "      <td>20.54</td>\n",
       "      <td>10.736702</td>\n",
       "      <td>NaN</td>\n",
       "    </tr>\n",
       "    <tr>\n",
       "      <th>57598</th>\n",
       "      <td>2021-11-16 20:01:03.968750</td>\n",
       "      <td>19.33</td>\n",
       "      <td>10.248353</td>\n",
       "      <td>NaN</td>\n",
       "    </tr>\n",
       "    <tr>\n",
       "      <th>57599</th>\n",
       "      <td>2021-11-16 20:01:03.984375</td>\n",
       "      <td>17.34</td>\n",
       "      <td>9.681269</td>\n",
       "      <td>NaN</td>\n",
       "    </tr>\n",
       "  </tbody>\n",
       "</table>\n",
       "<p>57600 rows × 4 columns</p>\n",
       "</div>"
      ],
      "text/plain": [
       "                             Time    BVP  Filtered BVP  Peak\n",
       "0      2021-11-16 19:46:04.000000   7.08     -9.445512   NaN\n",
       "1      2021-11-16 19:46:04.015625   4.10    -10.536238   NaN\n",
       "2      2021-11-16 19:46:04.031250   1.03    -11.603082   NaN\n",
       "3      2021-11-16 19:46:04.046875  -1.95    -12.591670   NaN\n",
       "4      2021-11-16 19:46:04.062500  -4.74    -13.450931   NaN\n",
       "...                           ...    ...           ...   ...\n",
       "57595  2021-11-16 20:01:03.921875  21.14     11.403494   NaN\n",
       "57596  2021-11-16 20:01:03.937500  21.08     11.128109   NaN\n",
       "57597  2021-11-16 20:01:03.953125  20.54     10.736702   NaN\n",
       "57598  2021-11-16 20:01:03.968750  19.33     10.248353   NaN\n",
       "57599  2021-11-16 20:01:03.984375  17.34      9.681269   NaN\n",
       "\n",
       "[57600 rows x 4 columns]"
      ]
     },
     "execution_count": 9,
     "metadata": {},
     "output_type": "execute_result"
    }
   ],
   "source": [
    "# Load data\n",
    "empatica_2 = pd.read_csv(data_dir + empatica_2_file)\n",
    "\n",
    "# Beat detection\n",
    "ppg_beats_empatica_2, empatica_2 = beat_detection_ppg(df=empatica_2, fs=fs_empatica, colname='BVP')\n",
    "\n",
    "empatica_2"
   ]
  },
  {
   "cell_type": "code",
   "execution_count": 10,
   "metadata": {},
   "outputs": [
    {
     "data": {
      "application/vnd.jupyter.widget-view+json": {
       "model_id": "420d353e7cdd425eab43919d42d046e2",
       "version_major": 2,
       "version_minor": 0
      },
      "text/plain": [
       "interactive(children=(IntSlider(value=1, continuous_update=False, description='start_seg', max=15, min=1), Out…"
      ]
     },
     "metadata": {},
     "output_type": "display_data"
    }
   ],
   "source": [
    "# Plot raw data\n",
    "dv.plot_raw_interactive(data = empatica_2, colname = 'Filtered BVP', time_colname = 'Time', peak_colname='Peak', fs = fs_empatica, seg_sec = 60)"
   ]
  },
  {
   "cell_type": "markdown",
   "metadata": {},
   "source": [
    "### Noisy PPG 3"
   ]
  },
  {
   "cell_type": "code",
   "execution_count": 11,
   "metadata": {},
   "outputs": [
    {
     "data": {
      "text/html": [
       "<div>\n",
       "<style scoped>\n",
       "    .dataframe tbody tr th:only-of-type {\n",
       "        vertical-align: middle;\n",
       "    }\n",
       "\n",
       "    .dataframe tbody tr th {\n",
       "        vertical-align: top;\n",
       "    }\n",
       "\n",
       "    .dataframe thead th {\n",
       "        text-align: right;\n",
       "    }\n",
       "</style>\n",
       "<table border=\"1\" class=\"dataframe\">\n",
       "  <thead>\n",
       "    <tr style=\"text-align: right;\">\n",
       "      <th></th>\n",
       "      <th>Time</th>\n",
       "      <th>BVP</th>\n",
       "      <th>Filtered BVP</th>\n",
       "      <th>Peak</th>\n",
       "    </tr>\n",
       "  </thead>\n",
       "  <tbody>\n",
       "    <tr>\n",
       "      <th>0</th>\n",
       "      <td>2021-11-16 19:46:04.000000</td>\n",
       "      <td>7.08</td>\n",
       "      <td>-9.445512</td>\n",
       "      <td>NaN</td>\n",
       "    </tr>\n",
       "    <tr>\n",
       "      <th>1</th>\n",
       "      <td>2021-11-16 19:46:04.015625</td>\n",
       "      <td>4.10</td>\n",
       "      <td>-10.536238</td>\n",
       "      <td>NaN</td>\n",
       "    </tr>\n",
       "    <tr>\n",
       "      <th>2</th>\n",
       "      <td>2021-11-16 19:46:04.031250</td>\n",
       "      <td>1.03</td>\n",
       "      <td>-11.603082</td>\n",
       "      <td>NaN</td>\n",
       "    </tr>\n",
       "    <tr>\n",
       "      <th>3</th>\n",
       "      <td>2021-11-16 19:46:04.046875</td>\n",
       "      <td>-1.95</td>\n",
       "      <td>-12.591670</td>\n",
       "      <td>NaN</td>\n",
       "    </tr>\n",
       "    <tr>\n",
       "      <th>4</th>\n",
       "      <td>2021-11-16 19:46:04.062500</td>\n",
       "      <td>-4.74</td>\n",
       "      <td>-13.450931</td>\n",
       "      <td>NaN</td>\n",
       "    </tr>\n",
       "    <tr>\n",
       "      <th>...</th>\n",
       "      <td>...</td>\n",
       "      <td>...</td>\n",
       "      <td>...</td>\n",
       "      <td>...</td>\n",
       "    </tr>\n",
       "    <tr>\n",
       "      <th>57595</th>\n",
       "      <td>2021-11-16 20:01:03.921875</td>\n",
       "      <td>21.14</td>\n",
       "      <td>11.403494</td>\n",
       "      <td>NaN</td>\n",
       "    </tr>\n",
       "    <tr>\n",
       "      <th>57596</th>\n",
       "      <td>2021-11-16 20:01:03.937500</td>\n",
       "      <td>21.08</td>\n",
       "      <td>11.128109</td>\n",
       "      <td>NaN</td>\n",
       "    </tr>\n",
       "    <tr>\n",
       "      <th>57597</th>\n",
       "      <td>2021-11-16 20:01:03.953125</td>\n",
       "      <td>20.54</td>\n",
       "      <td>10.736702</td>\n",
       "      <td>NaN</td>\n",
       "    </tr>\n",
       "    <tr>\n",
       "      <th>57598</th>\n",
       "      <td>2021-11-16 20:01:03.968750</td>\n",
       "      <td>19.33</td>\n",
       "      <td>10.248353</td>\n",
       "      <td>NaN</td>\n",
       "    </tr>\n",
       "    <tr>\n",
       "      <th>57599</th>\n",
       "      <td>2021-11-16 20:01:03.984375</td>\n",
       "      <td>17.34</td>\n",
       "      <td>9.681269</td>\n",
       "      <td>NaN</td>\n",
       "    </tr>\n",
       "  </tbody>\n",
       "</table>\n",
       "<p>57600 rows × 4 columns</p>\n",
       "</div>"
      ],
      "text/plain": [
       "                             Time    BVP  Filtered BVP  Peak\n",
       "0      2021-11-16 19:46:04.000000   7.08     -9.445512   NaN\n",
       "1      2021-11-16 19:46:04.015625   4.10    -10.536238   NaN\n",
       "2      2021-11-16 19:46:04.031250   1.03    -11.603082   NaN\n",
       "3      2021-11-16 19:46:04.046875  -1.95    -12.591670   NaN\n",
       "4      2021-11-16 19:46:04.062500  -4.74    -13.450931   NaN\n",
       "...                           ...    ...           ...   ...\n",
       "57595  2021-11-16 20:01:03.921875  21.14     11.403494   NaN\n",
       "57596  2021-11-16 20:01:03.937500  21.08     11.128109   NaN\n",
       "57597  2021-11-16 20:01:03.953125  20.54     10.736702   NaN\n",
       "57598  2021-11-16 20:01:03.968750  19.33     10.248353   NaN\n",
       "57599  2021-11-16 20:01:03.984375  17.34      9.681269   NaN\n",
       "\n",
       "[57600 rows x 4 columns]"
      ]
     },
     "execution_count": 11,
     "metadata": {},
     "output_type": "execute_result"
    }
   ],
   "source": [
    "# Load data\n",
    "empatica_3 = pd.read_csv(data_dir + empatica_3_file)\n",
    "\n",
    "# Beat detection\n",
    "ppg_beats_empatica_3, empatica_3 = beat_detection_ppg(df=empatica_3, fs=fs_empatica, colname='BVP')\n",
    "\n",
    "empatica_3"
   ]
  },
  {
   "cell_type": "code",
   "execution_count": 12,
   "metadata": {},
   "outputs": [
    {
     "data": {
      "application/vnd.jupyter.widget-view+json": {
       "model_id": "e87f540400ac45f497eadd7a74c71280",
       "version_major": 2,
       "version_minor": 0
      },
      "text/plain": [
       "interactive(children=(IntSlider(value=1, continuous_update=False, description='start_seg', max=15, min=1), Out…"
      ]
     },
     "metadata": {},
     "output_type": "display_data"
    }
   ],
   "source": [
    "# Plot raw data\n",
    "dv.plot_raw_interactive(data = empatica_3, colname = 'Filtered BVP', time_colname = 'Time', peak_colname='Peak', fs = fs_empatica, seg_sec = 60)"
   ]
  },
  {
   "cell_type": "markdown",
   "metadata": {},
   "source": [
    "### <a id='toc1_3_4_'></a>[Noisy ECG](#toc0_)"
   ]
  },
  {
   "cell_type": "code",
   "execution_count": 13,
   "metadata": {},
   "outputs": [
    {
     "data": {
      "text/html": [
       "<div>\n",
       "<style scoped>\n",
       "    .dataframe tbody tr th:only-of-type {\n",
       "        vertical-align: middle;\n",
       "    }\n",
       "\n",
       "    .dataframe tbody tr th {\n",
       "        vertical-align: top;\n",
       "    }\n",
       "\n",
       "    .dataframe thead th {\n",
       "        text-align: right;\n",
       "    }\n",
       "</style>\n",
       "<table border=\"1\" class=\"dataframe\">\n",
       "  <thead>\n",
       "    <tr style=\"text-align: right;\">\n",
       "      <th></th>\n",
       "      <th>Timestamp</th>\n",
       "      <th>ECG</th>\n",
       "      <th>X</th>\n",
       "      <th>Y</th>\n",
       "      <th>Z</th>\n",
       "      <th>Filtered ECG</th>\n",
       "      <th>Peak</th>\n",
       "    </tr>\n",
       "  </thead>\n",
       "  <tbody>\n",
       "    <tr>\n",
       "      <th>0</th>\n",
       "      <td>2017-03-18 14:57:18.000000</td>\n",
       "      <td>0.110697</td>\n",
       "      <td>4.167150</td>\n",
       "      <td>7.967184</td>\n",
       "      <td>-3.331023</td>\n",
       "      <td>0.008806</td>\n",
       "      <td>NaN</td>\n",
       "    </tr>\n",
       "    <tr>\n",
       "      <th>1</th>\n",
       "      <td>2017-03-18 14:57:18.000977</td>\n",
       "      <td>0.110697</td>\n",
       "      <td>4.156314</td>\n",
       "      <td>7.967049</td>\n",
       "      <td>-3.327827</td>\n",
       "      <td>0.004319</td>\n",
       "      <td>NaN</td>\n",
       "    </tr>\n",
       "    <tr>\n",
       "      <th>2</th>\n",
       "      <td>2017-03-18 14:57:18.001953</td>\n",
       "      <td>0.102508</td>\n",
       "      <td>4.145660</td>\n",
       "      <td>7.967226</td>\n",
       "      <td>-3.324982</td>\n",
       "      <td>-0.000172</td>\n",
       "      <td>NaN</td>\n",
       "    </tr>\n",
       "    <tr>\n",
       "      <th>3</th>\n",
       "      <td>2017-03-18 14:57:18.002930</td>\n",
       "      <td>0.078527</td>\n",
       "      <td>4.135242</td>\n",
       "      <td>7.967687</td>\n",
       "      <td>-3.322463</td>\n",
       "      <td>-0.004629</td>\n",
       "      <td>NaN</td>\n",
       "    </tr>\n",
       "    <tr>\n",
       "      <th>4</th>\n",
       "      <td>2017-03-18 14:57:18.003906</td>\n",
       "      <td>0.081159</td>\n",
       "      <td>4.125112</td>\n",
       "      <td>7.968403</td>\n",
       "      <td>-3.320242</td>\n",
       "      <td>-0.009015</td>\n",
       "      <td>NaN</td>\n",
       "    </tr>\n",
       "    <tr>\n",
       "      <th>...</th>\n",
       "      <td>...</td>\n",
       "      <td>...</td>\n",
       "      <td>...</td>\n",
       "      <td>...</td>\n",
       "      <td>...</td>\n",
       "      <td>...</td>\n",
       "      <td>...</td>\n",
       "    </tr>\n",
       "    <tr>\n",
       "      <th>2004988</th>\n",
       "      <td>2017-03-18 15:29:55.996094</td>\n",
       "      <td>-0.063608</td>\n",
       "      <td>8.005245</td>\n",
       "      <td>5.841280</td>\n",
       "      <td>-1.693565</td>\n",
       "      <td>-0.022305</td>\n",
       "      <td>NaN</td>\n",
       "    </tr>\n",
       "    <tr>\n",
       "      <th>2004989</th>\n",
       "      <td>2017-03-18 15:29:55.997070</td>\n",
       "      <td>-0.079401</td>\n",
       "      <td>7.997391</td>\n",
       "      <td>5.832431</td>\n",
       "      <td>-1.717957</td>\n",
       "      <td>-0.020363</td>\n",
       "      <td>NaN</td>\n",
       "    </tr>\n",
       "    <tr>\n",
       "      <th>2004990</th>\n",
       "      <td>2017-03-18 15:29:55.998047</td>\n",
       "      <td>-0.066533</td>\n",
       "      <td>7.988913</td>\n",
       "      <td>5.823656</td>\n",
       "      <td>-1.741808</td>\n",
       "      <td>-0.018277</td>\n",
       "      <td>NaN</td>\n",
       "    </tr>\n",
       "    <tr>\n",
       "      <th>2004991</th>\n",
       "      <td>2017-03-18 15:29:55.999023</td>\n",
       "      <td>-0.035825</td>\n",
       "      <td>7.979833</td>\n",
       "      <td>5.814984</td>\n",
       "      <td>-1.765055</td>\n",
       "      <td>-0.016088</td>\n",
       "      <td>NaN</td>\n",
       "    </tr>\n",
       "    <tr>\n",
       "      <th>2004992</th>\n",
       "      <td>2017-03-18 15:29:56.000000</td>\n",
       "      <td>-0.014475</td>\n",
       "      <td>7.970181</td>\n",
       "      <td>5.806439</td>\n",
       "      <td>-1.787634</td>\n",
       "      <td>-0.013853</td>\n",
       "      <td>NaN</td>\n",
       "    </tr>\n",
       "  </tbody>\n",
       "</table>\n",
       "<p>2004993 rows × 7 columns</p>\n",
       "</div>"
      ],
      "text/plain": [
       "                          Timestamp       ECG         X         Y         Z  \\\n",
       "0        2017-03-18 14:57:18.000000  0.110697  4.167150  7.967184 -3.331023   \n",
       "1        2017-03-18 14:57:18.000977  0.110697  4.156314  7.967049 -3.327827   \n",
       "2        2017-03-18 14:57:18.001953  0.102508  4.145660  7.967226 -3.324982   \n",
       "3        2017-03-18 14:57:18.002930  0.078527  4.135242  7.967687 -3.322463   \n",
       "4        2017-03-18 14:57:18.003906  0.081159  4.125112  7.968403 -3.320242   \n",
       "...                             ...       ...       ...       ...       ...   \n",
       "2004988  2017-03-18 15:29:55.996094 -0.063608  8.005245  5.841280 -1.693565   \n",
       "2004989  2017-03-18 15:29:55.997070 -0.079401  7.997391  5.832431 -1.717957   \n",
       "2004990  2017-03-18 15:29:55.998047 -0.066533  7.988913  5.823656 -1.741808   \n",
       "2004991  2017-03-18 15:29:55.999023 -0.035825  7.979833  5.814984 -1.765055   \n",
       "2004992  2017-03-18 15:29:56.000000 -0.014475  7.970181  5.806439 -1.787634   \n",
       "\n",
       "         Filtered ECG  Peak  \n",
       "0            0.008806   NaN  \n",
       "1            0.004319   NaN  \n",
       "2           -0.000172   NaN  \n",
       "3           -0.004629   NaN  \n",
       "4           -0.009015   NaN  \n",
       "...               ...   ...  \n",
       "2004988     -0.022305   NaN  \n",
       "2004989     -0.020363   NaN  \n",
       "2004990     -0.018277   NaN  \n",
       "2004991     -0.016088   NaN  \n",
       "2004992     -0.013853   NaN  \n",
       "\n",
       "[2004993 rows x 7 columns]"
      ]
     },
     "execution_count": 13,
     "metadata": {},
     "output_type": "execute_result"
    }
   ],
   "source": [
    "# Load data\n",
    "noisy_actiwave_1 = pd.read_csv(data_dir + noisy_actiwave_1_file)\n",
    "\n",
    "# Beat detection\n",
    "ecg_beats_actiwave_1, noisy_actiwave_1 = beat_detection_ecg(df=noisy_actiwave_1, fs=fs_actiwave, colname='ECG')\n",
    "\n",
    "noisy_actiwave_1"
   ]
  },
  {
   "cell_type": "code",
   "execution_count": 14,
   "metadata": {},
   "outputs": [
    {
     "data": {
      "application/vnd.jupyter.widget-view+json": {
       "model_id": "4658f12182dd46a4bf48c9115d4ceed9",
       "version_major": 2,
       "version_minor": 0
      },
      "text/plain": [
       "interactive(children=(IntSlider(value=1, continuous_update=False, description='start_seg', max=33, min=1), Out…"
      ]
     },
     "metadata": {},
     "output_type": "display_data"
    }
   ],
   "source": [
    "# Plot raw data\n",
    "dv.plot_raw_interactive(data = noisy_actiwave_1, colname = 'Filtered ECG', time_colname = 'Timestamp', peak_colname='Peak', fs = fs_actiwave, seg_sec = 60)"
   ]
  },
  {
   "cell_type": "markdown",
   "metadata": {},
   "source": [
    "### <a id='toc1_3_5_'></a>[Noisy ECG 2](#toc0_)"
   ]
  },
  {
   "cell_type": "code",
   "execution_count": 15,
   "metadata": {},
   "outputs": [
    {
     "data": {
      "text/html": [
       "<div>\n",
       "<style scoped>\n",
       "    .dataframe tbody tr th:only-of-type {\n",
       "        vertical-align: middle;\n",
       "    }\n",
       "\n",
       "    .dataframe tbody tr th {\n",
       "        vertical-align: top;\n",
       "    }\n",
       "\n",
       "    .dataframe thead th {\n",
       "        text-align: right;\n",
       "    }\n",
       "</style>\n",
       "<table border=\"1\" class=\"dataframe\">\n",
       "  <thead>\n",
       "    <tr style=\"text-align: right;\">\n",
       "      <th></th>\n",
       "      <th>Timestamp</th>\n",
       "      <th>ECG</th>\n",
       "      <th>X</th>\n",
       "      <th>Y</th>\n",
       "      <th>Z</th>\n",
       "      <th>Filtered ECG</th>\n",
       "      <th>Peak</th>\n",
       "    </tr>\n",
       "  </thead>\n",
       "  <tbody>\n",
       "    <tr>\n",
       "      <th>0</th>\n",
       "      <td>2017-01-16 11:34:31.000000</td>\n",
       "      <td>0.049573</td>\n",
       "      <td>-3.253104</td>\n",
       "      <td>9.696379</td>\n",
       "      <td>0.259229</td>\n",
       "      <td>0.020803</td>\n",
       "      <td>NaN</td>\n",
       "    </tr>\n",
       "    <tr>\n",
       "      <th>1</th>\n",
       "      <td>2017-01-16 11:34:31.000977</td>\n",
       "      <td>0.050743</td>\n",
       "      <td>-3.236605</td>\n",
       "      <td>9.683939</td>\n",
       "      <td>0.260479</td>\n",
       "      <td>0.020088</td>\n",
       "      <td>NaN</td>\n",
       "    </tr>\n",
       "    <tr>\n",
       "      <th>2</th>\n",
       "      <td>2017-01-16 11:34:31.001953</td>\n",
       "      <td>0.027054</td>\n",
       "      <td>-3.219710</td>\n",
       "      <td>9.671238</td>\n",
       "      <td>0.261524</td>\n",
       "      <td>0.019438</td>\n",
       "      <td>NaN</td>\n",
       "    </tr>\n",
       "    <tr>\n",
       "      <th>3</th>\n",
       "      <td>2017-01-16 11:34:31.002930</td>\n",
       "      <td>0.021497</td>\n",
       "      <td>-3.202473</td>\n",
       "      <td>9.658296</td>\n",
       "      <td>0.262367</td>\n",
       "      <td>0.018868</td>\n",
       "      <td>NaN</td>\n",
       "    </tr>\n",
       "    <tr>\n",
       "      <th>4</th>\n",
       "      <td>2017-01-16 11:34:31.003906</td>\n",
       "      <td>0.040215</td>\n",
       "      <td>-3.184956</td>\n",
       "      <td>9.645136</td>\n",
       "      <td>0.263012</td>\n",
       "      <td>0.018392</td>\n",
       "      <td>NaN</td>\n",
       "    </tr>\n",
       "    <tr>\n",
       "      <th>...</th>\n",
       "      <td>...</td>\n",
       "      <td>...</td>\n",
       "      <td>...</td>\n",
       "      <td>...</td>\n",
       "      <td>...</td>\n",
       "      <td>...</td>\n",
       "      <td>...</td>\n",
       "    </tr>\n",
       "    <tr>\n",
       "      <th>1035260</th>\n",
       "      <td>2017-01-16 11:51:21.996094</td>\n",
       "      <td>-0.009796</td>\n",
       "      <td>-5.255432</td>\n",
       "      <td>7.226353</td>\n",
       "      <td>2.816282</td>\n",
       "      <td>0.019333</td>\n",
       "      <td>NaN</td>\n",
       "    </tr>\n",
       "    <tr>\n",
       "      <th>1035261</th>\n",
       "      <td>2017-01-16 11:51:21.997070</td>\n",
       "      <td>-0.008626</td>\n",
       "      <td>-5.244926</td>\n",
       "      <td>7.209909</td>\n",
       "      <td>2.838964</td>\n",
       "      <td>0.016945</td>\n",
       "      <td>NaN</td>\n",
       "    </tr>\n",
       "    <tr>\n",
       "      <th>1035262</th>\n",
       "      <td>2017-01-16 11:51:21.998047</td>\n",
       "      <td>-0.008041</td>\n",
       "      <td>-5.234835</td>\n",
       "      <td>7.192982</td>\n",
       "      <td>2.861934</td>\n",
       "      <td>0.014738</td>\n",
       "      <td>NaN</td>\n",
       "    </tr>\n",
       "    <tr>\n",
       "      <th>1035263</th>\n",
       "      <td>2017-01-16 11:51:21.999023</td>\n",
       "      <td>0.000440</td>\n",
       "      <td>-5.225199</td>\n",
       "      <td>7.175660</td>\n",
       "      <td>2.885124</td>\n",
       "      <td>0.012710</td>\n",
       "      <td>NaN</td>\n",
       "    </tr>\n",
       "    <tr>\n",
       "      <th>1035264</th>\n",
       "      <td>2017-01-16 11:51:22.000000</td>\n",
       "      <td>-0.008626</td>\n",
       "      <td>-5.216056</td>\n",
       "      <td>7.158029</td>\n",
       "      <td>2.908464</td>\n",
       "      <td>0.010859</td>\n",
       "      <td>NaN</td>\n",
       "    </tr>\n",
       "  </tbody>\n",
       "</table>\n",
       "<p>1035265 rows × 7 columns</p>\n",
       "</div>"
      ],
      "text/plain": [
       "                          Timestamp       ECG         X         Y         Z  \\\n",
       "0        2017-01-16 11:34:31.000000  0.049573 -3.253104  9.696379  0.259229   \n",
       "1        2017-01-16 11:34:31.000977  0.050743 -3.236605  9.683939  0.260479   \n",
       "2        2017-01-16 11:34:31.001953  0.027054 -3.219710  9.671238  0.261524   \n",
       "3        2017-01-16 11:34:31.002930  0.021497 -3.202473  9.658296  0.262367   \n",
       "4        2017-01-16 11:34:31.003906  0.040215 -3.184956  9.645136  0.263012   \n",
       "...                             ...       ...       ...       ...       ...   \n",
       "1035260  2017-01-16 11:51:21.996094 -0.009796 -5.255432  7.226353  2.816282   \n",
       "1035261  2017-01-16 11:51:21.997070 -0.008626 -5.244926  7.209909  2.838964   \n",
       "1035262  2017-01-16 11:51:21.998047 -0.008041 -5.234835  7.192982  2.861934   \n",
       "1035263  2017-01-16 11:51:21.999023  0.000440 -5.225199  7.175660  2.885124   \n",
       "1035264  2017-01-16 11:51:22.000000 -0.008626 -5.216056  7.158029  2.908464   \n",
       "\n",
       "         Filtered ECG  Peak  \n",
       "0            0.020803   NaN  \n",
       "1            0.020088   NaN  \n",
       "2            0.019438   NaN  \n",
       "3            0.018868   NaN  \n",
       "4            0.018392   NaN  \n",
       "...               ...   ...  \n",
       "1035260      0.019333   NaN  \n",
       "1035261      0.016945   NaN  \n",
       "1035262      0.014738   NaN  \n",
       "1035263      0.012710   NaN  \n",
       "1035264      0.010859   NaN  \n",
       "\n",
       "[1035265 rows x 7 columns]"
      ]
     },
     "execution_count": 15,
     "metadata": {},
     "output_type": "execute_result"
    }
   ],
   "source": [
    "# Load data\n",
    "noisy_actiwave_2 = pd.read_csv(data_dir + noisy_actiwave_2_file)\n",
    "\n",
    "# Beat detection\n",
    "ecg_beats_actiwave_2, noisy_actiwave_2 = beat_detection_ecg(df=noisy_actiwave_2, fs=fs_actiwave, colname='ECG')\n",
    "\n",
    "noisy_actiwave_2"
   ]
  },
  {
   "cell_type": "code",
   "execution_count": 16,
   "metadata": {},
   "outputs": [
    {
     "data": {
      "application/vnd.jupyter.widget-view+json": {
       "model_id": "d1b51a4a97e946da8bd367a5766a30d0",
       "version_major": 2,
       "version_minor": 0
      },
      "text/plain": [
       "interactive(children=(IntSlider(value=1, continuous_update=False, description='start_seg', max=17, min=1), Out…"
      ]
     },
     "metadata": {},
     "output_type": "display_data"
    }
   ],
   "source": [
    "dv.plot_raw_interactive(data = noisy_actiwave_2, colname = 'Filtered ECG', time_colname = 'Timestamp', peak_colname='Peak', fs = fs_actiwave, seg_sec = 60)"
   ]
  },
  {
   "cell_type": "markdown",
   "metadata": {},
   "source": [
    "### <a id='toc1_3_6_'></a>[Unusable ECG](#toc0_)"
   ]
  },
  {
   "cell_type": "code",
   "execution_count": 17,
   "metadata": {},
   "outputs": [
    {
     "data": {
      "text/html": [
       "<div>\n",
       "<style scoped>\n",
       "    .dataframe tbody tr th:only-of-type {\n",
       "        vertical-align: middle;\n",
       "    }\n",
       "\n",
       "    .dataframe tbody tr th {\n",
       "        vertical-align: top;\n",
       "    }\n",
       "\n",
       "    .dataframe thead th {\n",
       "        text-align: right;\n",
       "    }\n",
       "</style>\n",
       "<table border=\"1\" class=\"dataframe\">\n",
       "  <thead>\n",
       "    <tr style=\"text-align: right;\">\n",
       "      <th></th>\n",
       "      <th>Timestamp</th>\n",
       "      <th>ECG</th>\n",
       "      <th>X</th>\n",
       "      <th>Y</th>\n",
       "      <th>Z</th>\n",
       "      <th>Filtered ECG</th>\n",
       "      <th>Peak</th>\n",
       "    </tr>\n",
       "  </thead>\n",
       "  <tbody>\n",
       "    <tr>\n",
       "      <th>0</th>\n",
       "      <td>2016-09-21 18:04:00.000000</td>\n",
       "      <td>0.089055</td>\n",
       "      <td>-3.235123</td>\n",
       "      <td>4.676619</td>\n",
       "      <td>-8.054093</td>\n",
       "      <td>0.058416</td>\n",
       "      <td>NaN</td>\n",
       "    </tr>\n",
       "    <tr>\n",
       "      <th>1</th>\n",
       "      <td>2016-09-21 18:04:00.000977</td>\n",
       "      <td>0.096367</td>\n",
       "      <td>-3.229053</td>\n",
       "      <td>4.684367</td>\n",
       "      <td>-8.055504</td>\n",
       "      <td>0.059369</td>\n",
       "      <td>NaN</td>\n",
       "    </tr>\n",
       "    <tr>\n",
       "      <th>2</th>\n",
       "      <td>2016-09-21 18:04:00.001953</td>\n",
       "      <td>0.103678</td>\n",
       "      <td>-3.222176</td>\n",
       "      <td>4.692811</td>\n",
       "      <td>-8.056672</td>\n",
       "      <td>0.060286</td>\n",
       "      <td>NaN</td>\n",
       "    </tr>\n",
       "    <tr>\n",
       "      <th>3</th>\n",
       "      <td>2016-09-21 18:04:00.002930</td>\n",
       "      <td>0.087008</td>\n",
       "      <td>-3.214526</td>\n",
       "      <td>4.701869</td>\n",
       "      <td>-8.057613</td>\n",
       "      <td>0.061156</td>\n",
       "      <td>NaN</td>\n",
       "    </tr>\n",
       "    <tr>\n",
       "      <th>4</th>\n",
       "      <td>2016-09-21 18:04:00.003906</td>\n",
       "      <td>0.097244</td>\n",
       "      <td>-3.206142</td>\n",
       "      <td>4.711456</td>\n",
       "      <td>-8.058348</td>\n",
       "      <td>0.061971</td>\n",
       "      <td>NaN</td>\n",
       "    </tr>\n",
       "    <tr>\n",
       "      <th>...</th>\n",
       "      <td>...</td>\n",
       "      <td>...</td>\n",
       "      <td>...</td>\n",
       "      <td>...</td>\n",
       "      <td>...</td>\n",
       "      <td>...</td>\n",
       "      <td>...</td>\n",
       "    </tr>\n",
       "    <tr>\n",
       "      <th>921595</th>\n",
       "      <td>2016-09-21 18:18:59.995117</td>\n",
       "      <td>5.009083</td>\n",
       "      <td>13.810299</td>\n",
       "      <td>1.153427</td>\n",
       "      <td>1.392078</td>\n",
       "      <td>0.825561</td>\n",
       "      <td>NaN</td>\n",
       "    </tr>\n",
       "    <tr>\n",
       "      <th>921596</th>\n",
       "      <td>2016-09-21 18:18:59.996094</td>\n",
       "      <td>4.803485</td>\n",
       "      <td>13.934142</td>\n",
       "      <td>1.157580</td>\n",
       "      <td>1.450984</td>\n",
       "      <td>0.789405</td>\n",
       "      <td>NaN</td>\n",
       "    </tr>\n",
       "    <tr>\n",
       "      <th>921597</th>\n",
       "      <td>2016-09-21 18:18:59.997070</td>\n",
       "      <td>4.663105</td>\n",
       "      <td>14.039550</td>\n",
       "      <td>1.162269</td>\n",
       "      <td>1.509638</td>\n",
       "      <td>0.741776</td>\n",
       "      <td>NaN</td>\n",
       "    </tr>\n",
       "    <tr>\n",
       "      <th>921598</th>\n",
       "      <td>2016-09-21 18:18:59.998047</td>\n",
       "      <td>4.600226</td>\n",
       "      <td>14.126216</td>\n",
       "      <td>1.167466</td>\n",
       "      <td>1.567611</td>\n",
       "      <td>0.684889</td>\n",
       "      <td>NaN</td>\n",
       "    </tr>\n",
       "    <tr>\n",
       "      <th>921599</th>\n",
       "      <td>2016-09-21 18:18:59.999023</td>\n",
       "      <td>4.616604</td>\n",
       "      <td>14.193941</td>\n",
       "      <td>1.173142</td>\n",
       "      <td>1.624463</td>\n",
       "      <td>0.620981</td>\n",
       "      <td>NaN</td>\n",
       "    </tr>\n",
       "  </tbody>\n",
       "</table>\n",
       "<p>921600 rows × 7 columns</p>\n",
       "</div>"
      ],
      "text/plain": [
       "                         Timestamp       ECG          X         Y         Z  \\\n",
       "0       2016-09-21 18:04:00.000000  0.089055  -3.235123  4.676619 -8.054093   \n",
       "1       2016-09-21 18:04:00.000977  0.096367  -3.229053  4.684367 -8.055504   \n",
       "2       2016-09-21 18:04:00.001953  0.103678  -3.222176  4.692811 -8.056672   \n",
       "3       2016-09-21 18:04:00.002930  0.087008  -3.214526  4.701869 -8.057613   \n",
       "4       2016-09-21 18:04:00.003906  0.097244  -3.206142  4.711456 -8.058348   \n",
       "...                            ...       ...        ...       ...       ...   \n",
       "921595  2016-09-21 18:18:59.995117  5.009083  13.810299  1.153427  1.392078   \n",
       "921596  2016-09-21 18:18:59.996094  4.803485  13.934142  1.157580  1.450984   \n",
       "921597  2016-09-21 18:18:59.997070  4.663105  14.039550  1.162269  1.509638   \n",
       "921598  2016-09-21 18:18:59.998047  4.600226  14.126216  1.167466  1.567611   \n",
       "921599  2016-09-21 18:18:59.999023  4.616604  14.193941  1.173142  1.624463   \n",
       "\n",
       "        Filtered ECG  Peak  \n",
       "0           0.058416   NaN  \n",
       "1           0.059369   NaN  \n",
       "2           0.060286   NaN  \n",
       "3           0.061156   NaN  \n",
       "4           0.061971   NaN  \n",
       "...              ...   ...  \n",
       "921595      0.825561   NaN  \n",
       "921596      0.789405   NaN  \n",
       "921597      0.741776   NaN  \n",
       "921598      0.684889   NaN  \n",
       "921599      0.620981   NaN  \n",
       "\n",
       "[921600 rows x 7 columns]"
      ]
     },
     "execution_count": 17,
     "metadata": {},
     "output_type": "execute_result"
    }
   ],
   "source": [
    "# Load data\n",
    "unusable_ecg = pd.read_csv(data_dir + unusable_ecg_file)\n",
    "\n",
    "# Filter ECG\n",
    "Filter = ECG.Filters(fs=fs_unusable_ecg, powerline_freq=60)\n",
    "unusable_ecg['Filtered ECG'] = Filter.filter_signal(unusable_ecg['ECG'])\n",
    "\n",
    "# Detect R-peaks\n",
    "BeatDetector = ECG.BeatDetectors(fs=fs_unusable_ecg, preprocessed=True)\n",
    "ecg_beats_unusable_ecg = BeatDetector.manikandan(signal=unusable_ecg['Filtered ECG'], adaptive_threshold=True)\n",
    "unusable_ecg['Peak'] = np.nan\n",
    "unusable_ecg.loc[unusable_ecg.index.isin(ecg_beats_unusable_ecg), 'Peak'] = 1\n",
    "\n",
    "unusable_ecg"
   ]
  },
  {
   "cell_type": "code",
   "execution_count": 18,
   "metadata": {},
   "outputs": [
    {
     "data": {
      "application/vnd.jupyter.widget-view+json": {
       "model_id": "26a03dba0b6b4c47b3606c6ffc1ac003",
       "version_major": 2,
       "version_minor": 0
      },
      "text/plain": [
       "interactive(children=(IntSlider(value=1, continuous_update=False, description='start_seg', max=15, min=1), Out…"
      ]
     },
     "metadata": {},
     "output_type": "display_data"
    }
   ],
   "source": [
    "# Plot raw data\n",
    "dv.plot_raw_interactive(data = unusable_ecg, colname = 'Filtered ECG', time_colname = 'Timestamp', peak_colname='Peak', fs = fs_unusable_ecg, seg_sec = 60)"
   ]
  },
  {
   "cell_type": "markdown",
   "metadata": {},
   "source": [
    "## <a id='toc1_4_'></a>[**Visualize artifacts**](#toc0_)\n",
    "\n",
    "Here, we detect artifactual beats and visualize their locations.\n",
    "\n",
    "### <a id='toc1_4_1_'></a>[**Artifact detection methods**](#toc0_)\n",
    "\n",
    "Two types of artifact detection methods are available.\n",
    "\n",
    "1. **Hegarty-Craver et al.'s algorithm**\n",
    "\n",
    "    You can use this method by setting the method parameter as `method='hegarty'` in the `cardio.identify_artifacts()` function.\n",
    "\n",
    "    This method classifies each IBI as short/correct/long/extra long by comparing each IBI against the estimated IBI (i.e., median of the previous IBIs).\n",
    "\n",
    "2. **Quigley et al.'s algorithm**\n",
    "\n",
    "    You can use this method by setting the method parameter as `method='cbd'` in the `cardio.identify_artifacts()` function.\n",
    "\n",
    "    This method estimates the largest expected beat difference among normal beats and the smallest expected beat difference among artifactual beats based on the distribution. It then identifies artifactual beats based on the calculated criterion. \n",
    "\n",
    "3. **Both algorithms**\n",
    "\n",
    "    You can use both algorithms at the same time by setting the method parameter as `method='both'` in the `cardio.identify_artifacts()` function.\n",
    "\n",
    "    If this option is selected, beats identified as artifacts by either detection method are returned as artifacts.\n",
    "\n",
    "Reference: \n",
    "> Hegarty-Craver, M., Gilchrist, K. H., Propper, C. B., Lewis, G. F., DeFilipp, S. J., Coffman, J. L., & Willoughby, M. T. (2018). Automated respiratory sinus arrhythmia measurement: Demonstration using executive function assessment. Behavior Research Methods, 50(5), 1816–1823.\n",
    "  \n",
    "> Berntson, G., Quigley, K., Jang, J., Boysen, S. (1990). An approach to\n",
    "artifact identification: Application to heart period data.\n",
    "Psychophysiology, 27(5), 586–598."
   ]
  },
  {
   "cell_type": "markdown",
   "metadata": {},
   "source": [
    "### <a id='toc1_4_2_'></a>[Clean ECG](#toc0_)"
   ]
  },
  {
   "cell_type": "code",
   "execution_count": 19,
   "metadata": {},
   "outputs": [
    {
     "data": {
      "application/vnd.jupyter.widget-view+json": {
       "model_id": "89e1510cb8994838841213915d380ffc",
       "version_major": 2,
       "version_minor": 0
      },
      "text/plain": [
       "interactive(children=(IntSlider(value=1, continuous_update=False, description='start_seg', max=16, min=1), Out…"
      ]
     },
     "metadata": {},
     "output_type": "display_data"
    }
   ],
   "source": [
    "cardio = Cardio(fs=fs_mindware)\n",
    "artifacts_clean_mindware = cardio.identify_artifacts(beats_ix=ecg_beats_clean_mindware, method='hegarty')\n",
    "dv.plot_artifacts_interactive(data=clean_mindware, colname='Filtered ECG', time_colname='Time', artifacts_idx=artifacts_clean_mindware, fs = fs_mindware, seg_sec = 60)"
   ]
  },
  {
   "cell_type": "markdown",
   "metadata": {},
   "source": [
    "### <a id='toc1_4_3_'></a>[Noisy PPG](#toc0_)"
   ]
  },
  {
   "cell_type": "code",
   "execution_count": 20,
   "metadata": {},
   "outputs": [
    {
     "data": {
      "application/vnd.jupyter.widget-view+json": {
       "model_id": "3fbb3139dc29403a8e71233f18e24e0e",
       "version_major": 2,
       "version_minor": 0
      },
      "text/plain": [
       "interactive(children=(IntSlider(value=1, continuous_update=False, description='start_seg', max=20, min=1), Out…"
      ]
     },
     "metadata": {},
     "output_type": "display_data"
    }
   ],
   "source": [
    "cardio = Cardio(fs=fs_empatica)\n",
    "artifacts_empatica_1 = cardio.identify_artifacts(beats_ix=ppg_beats_empatica_1, method='hegarty')\n",
    "dv.plot_artifacts_interactive(data=empatica_1, colname='Filtered BVP', time_colname='Time', artifacts_idx=artifacts_empatica_1, fs = fs_empatica, seg_sec = 60)"
   ]
  },
  {
   "cell_type": "markdown",
   "metadata": {},
   "source": [
    "### <a id='toc1_4_4_'></a>[Noisy PPG 2](#toc0_)"
   ]
  },
  {
   "cell_type": "code",
   "execution_count": 21,
   "metadata": {},
   "outputs": [
    {
     "data": {
      "application/vnd.jupyter.widget-view+json": {
       "model_id": "9a4064968ac1429eaa046b2636ca214a",
       "version_major": 2,
       "version_minor": 0
      },
      "text/plain": [
       "interactive(children=(IntSlider(value=1, continuous_update=False, description='start_seg', max=15, min=1), Out…"
      ]
     },
     "metadata": {},
     "output_type": "display_data"
    }
   ],
   "source": [
    "cardio = Cardio(fs=fs_empatica)\n",
    "artifacts_empatica_2 = cardio.identify_artifacts(beats_ix=ppg_beats_empatica_2, method='hegarty')\n",
    "dv.plot_artifacts_interactive(data=empatica_2, colname='Filtered BVP', time_colname='Time', artifacts_idx=artifacts_empatica_2, fs = fs_empatica, seg_sec = 60)"
   ]
  },
  {
   "cell_type": "markdown",
   "metadata": {},
   "source": [
    "### Noisy PPG 3"
   ]
  },
  {
   "cell_type": "code",
   "execution_count": 22,
   "metadata": {},
   "outputs": [
    {
     "data": {
      "application/vnd.jupyter.widget-view+json": {
       "model_id": "0b339e3fda8c4e77ae3c73a33d06b023",
       "version_major": 2,
       "version_minor": 0
      },
      "text/plain": [
       "interactive(children=(IntSlider(value=1, continuous_update=False, description='start_seg', max=15, min=1), Out…"
      ]
     },
     "metadata": {},
     "output_type": "display_data"
    }
   ],
   "source": [
    "cardio = Cardio(fs=fs_empatica)\n",
    "artifacts_empatica_3 = cardio.identify_artifacts(beats_ix=ppg_beats_empatica_3, method='hegarty')\n",
    "dv.plot_artifacts_interactive(data=empatica_3, colname='Filtered BVP', time_colname='Time', artifacts_idx=artifacts_empatica_3, fs = fs_empatica, seg_sec = 60)"
   ]
  },
  {
   "cell_type": "markdown",
   "metadata": {},
   "source": [
    "### <a id='toc1_4_5_'></a>[Noisy ECG](#toc0_)"
   ]
  },
  {
   "cell_type": "code",
   "execution_count": 23,
   "metadata": {},
   "outputs": [
    {
     "data": {
      "application/vnd.jupyter.widget-view+json": {
       "model_id": "6205c1ce9f7d426d953e4e2cf4088e05",
       "version_major": 2,
       "version_minor": 0
      },
      "text/plain": [
       "interactive(children=(IntSlider(value=1, continuous_update=False, description='start_seg', max=33, min=1), Out…"
      ]
     },
     "metadata": {},
     "output_type": "display_data"
    }
   ],
   "source": [
    "cardio = Cardio(fs=fs_actiwave)\n",
    "artifacts_actiwave_1 = cardio.identify_artifacts(beats_ix=ecg_beats_actiwave_1, method='hegarty')\n",
    "dv.plot_artifacts_interactive(data=noisy_actiwave_1, colname='Filtered ECG', time_colname='Timestamp', artifacts_idx=artifacts_actiwave_1, fs = fs_actiwave, seg_sec = 60)"
   ]
  },
  {
   "cell_type": "markdown",
   "metadata": {},
   "source": [
    "### <a id='toc1_4_6_'></a>[Noisy ECG 2](#toc0_)"
   ]
  },
  {
   "cell_type": "code",
   "execution_count": 24,
   "metadata": {},
   "outputs": [
    {
     "data": {
      "application/vnd.jupyter.widget-view+json": {
       "model_id": "5fadda89efef4b8dac59d348cf8f3989",
       "version_major": 2,
       "version_minor": 0
      },
      "text/plain": [
       "interactive(children=(IntSlider(value=1, continuous_update=False, description='start_seg', max=17, min=1), Out…"
      ]
     },
     "metadata": {},
     "output_type": "display_data"
    }
   ],
   "source": [
    "cardio = Cardio(fs=fs_actiwave)\n",
    "artifacts_actiwave_2 = cardio.identify_artifacts(beats_ix=ecg_beats_actiwave_2, method='hegarty')\n",
    "dv.plot_artifacts_interactive(data=noisy_actiwave_2, colname='Filtered ECG', time_colname='Timestamp', artifacts_idx=artifacts_actiwave_2, fs = fs_actiwave, seg_sec = 60)"
   ]
  },
  {
   "cell_type": "markdown",
   "metadata": {},
   "source": [
    "### <a id='toc1_4_7_'></a>[Unusable ECG](#toc0_)"
   ]
  },
  {
   "cell_type": "code",
   "execution_count": 25,
   "metadata": {},
   "outputs": [
    {
     "data": {
      "application/vnd.jupyter.widget-view+json": {
       "model_id": "36397e3002d1496e805a82b54228095b",
       "version_major": 2,
       "version_minor": 0
      },
      "text/plain": [
       "interactive(children=(IntSlider(value=1, continuous_update=False, description='start_seg', max=15, min=1), Out…"
      ]
     },
     "metadata": {},
     "output_type": "display_data"
    }
   ],
   "source": [
    "cardio = Cardio(fs=fs_unusable_ecg)\n",
    "artifacts_unusable_ecg = cardio.identify_artifacts(beats_ix=ecg_beats_unusable_ecg, method='hegarty')\n",
    "dv.plot_artifacts_interactive(data=unusable_ecg, colname='Filtered ECG', time_colname='Timestamp', artifacts_idx=artifacts_unusable_ecg, fs = fs_unusable_ecg, seg_sec = 60)"
   ]
  },
  {
   "cell_type": "markdown",
   "metadata": {},
   "source": [
    "## <a id='toc1_5_'></a>[**Beat correction**](#toc0_)\n",
    "\n",
    "Then, correct artifactual beats with an algorithm.\n",
    "\n",
    "The algorithm used here is developed by Hegarty-Craver et al. (2018).\n",
    "\n",
    "Using the same criteria in the artifact detection algorithm, this method classifies each IBI as short/correct/long/extra long. It checks the flags of the previous and current IBIs and applies different correction methods based on their combination.\n",
    "\n",
    "**Correction methods used**\n",
    "1. **Accept**—Accept without correction.\n",
    "2. **Add**—Add previous and current IBIs.\n",
    "3. **Average**—Average previous and current IBIs.\n",
    "4. **Split**—Add previous and current IBIs and split the values into more than three.\n",
    "\n",
    "Reference: \n",
    "> Hegarty-Craver, M., Gilchrist, K. H., Propper, C. B., Lewis, G. F., DeFilipp, S. J., Coffman, J. L., & Willoughby, M. T. (2018). Automated respiratory sinus arrhythmia measurement: Demonstration using executive function assessment. Behavior Research Methods, 50(5), 1816–1823.\n",
    "  \n",
    "\n"
   ]
  },
  {
   "cell_type": "code",
   "execution_count": 26,
   "metadata": {},
   "outputs": [],
   "source": [
    "def beat_correction(df: pd.DataFrame, fs: int, beats_ix: list, seg_size: int):\n",
    "    cardio = Cardio(fs=fs)\n",
    "    original, corrected = cardio.correct_interval(beats_ix=beats_ix, seg_size=seg_size)\n",
    "    df['Peak after correction'] = np.nan\n",
    "    df.loc[df.index.isin(corrected['Corrected Beat']), 'Peak after correction'] = 1\n",
    "\n",
    "    return corrected, df"
   ]
  },
  {
   "cell_type": "markdown",
   "metadata": {},
   "source": [
    "### <a id='toc1_5_1_'></a>[Clean ECG](#toc0_)"
   ]
  },
  {
   "cell_type": "code",
   "execution_count": 27,
   "metadata": {},
   "outputs": [
    {
     "name": "stdout",
     "output_type": "stream",
     "text": [
      "Estimated average HR (bpm):  91\n"
     ]
    },
    {
     "data": {
      "application/vnd.jupyter.widget-view+json": {
       "model_id": "0c481eac4217440d9dc6f2a2d3c017c5",
       "version_major": 2,
       "version_minor": 0
      },
      "text/plain": [
       "interactive(children=(IntSlider(value=1, continuous_update=False, description='start_seg', max=16, min=1), Out…"
      ]
     },
     "metadata": {},
     "output_type": "display_data"
    }
   ],
   "source": [
    "corrected_clean_mindware, clean_mindware = beat_correction(df=clean_mindware, fs=fs_mindware, beats_ix=ecg_beats_clean_mindware, seg_size=60)\n",
    "dv.plot_correction_interactive(data=clean_mindware, colname='Filtered ECG', time_colname='Time', peak_colname_correction='Peak after correction', fs=fs_mindware, seg_sec=60)"
   ]
  },
  {
   "cell_type": "markdown",
   "metadata": {},
   "source": [
    "### <a id='toc1_5_2_'></a>[Noisy PPG](#toc0_)"
   ]
  },
  {
   "cell_type": "code",
   "execution_count": 28,
   "metadata": {},
   "outputs": [
    {
     "name": "stdout",
     "output_type": "stream",
     "text": [
      "Estimated average HR (bpm):  70\n"
     ]
    },
    {
     "name": "stderr",
     "output_type": "stream",
     "text": [
      "/Users/yuna.w/Research/CBSL/heartview_workshop/.venv/lib/python3.12/site-packages/numpy/_core/fromnumeric.py:3596: RuntimeWarning: Mean of empty slice.\n",
      "  return _methods._mean(a, axis=axis, dtype=dtype,\n",
      "/Users/yuna.w/Research/CBSL/heartview_workshop/.venv/lib/python3.12/site-packages/numpy/_core/_methods.py:138: RuntimeWarning: invalid value encountered in scalar divide\n",
      "  ret = ret.dtype.type(ret / rcount)\n"
     ]
    },
    {
     "data": {
      "application/vnd.jupyter.widget-view+json": {
       "model_id": "f9ce76101f67486f857277fa2221eeff",
       "version_major": 2,
       "version_minor": 0
      },
      "text/plain": [
       "interactive(children=(IntSlider(value=1, continuous_update=False, description='start_seg', max=20, min=1), Out…"
      ]
     },
     "metadata": {},
     "output_type": "display_data"
    }
   ],
   "source": [
    "corrected_empatica_1, empatica_1 = beat_correction(df=empatica_1, fs=fs_empatica, beats_ix=ppg_beats_empatica_1, seg_size=60)\n",
    "dv.plot_correction_interactive(data=empatica_1, colname='Filtered BVP', time_colname='Time', peak_colname_correction='Peak after correction', fs=fs_empatica, seg_sec=60)"
   ]
  },
  {
   "cell_type": "markdown",
   "metadata": {},
   "source": [
    "### <a id='toc1_5_3_'></a>[Noisy PPG 2](#toc0_)"
   ]
  },
  {
   "cell_type": "code",
   "execution_count": 29,
   "metadata": {},
   "outputs": [
    {
     "name": "stdout",
     "output_type": "stream",
     "text": [
      "Estimated average HR (bpm):  67\n"
     ]
    },
    {
     "data": {
      "application/vnd.jupyter.widget-view+json": {
       "model_id": "367af055fa414b8f8296ca21d8a9f05a",
       "version_major": 2,
       "version_minor": 0
      },
      "text/plain": [
       "interactive(children=(IntSlider(value=1, continuous_update=False, description='start_seg', max=15, min=1), Out…"
      ]
     },
     "metadata": {},
     "output_type": "display_data"
    }
   ],
   "source": [
    "corrected_empatica_2, empatica_2 = beat_correction(df=empatica_2, fs=fs_empatica, beats_ix=ppg_beats_empatica_2, seg_size=60)\n",
    "dv.plot_correction_interactive(data=empatica_2, colname='Filtered BVP', time_colname='Time', peak_colname_correction='Peak after correction', fs=fs_empatica, seg_sec=60)"
   ]
  },
  {
   "cell_type": "markdown",
   "metadata": {},
   "source": [
    "### Noisy PPG 3"
   ]
  },
  {
   "cell_type": "code",
   "execution_count": 30,
   "metadata": {},
   "outputs": [
    {
     "name": "stdout",
     "output_type": "stream",
     "text": [
      "Estimated average HR (bpm):  67\n"
     ]
    },
    {
     "data": {
      "application/vnd.jupyter.widget-view+json": {
       "model_id": "6d0b38f5e2754fa184efe5bf01c3bc19",
       "version_major": 2,
       "version_minor": 0
      },
      "text/plain": [
       "interactive(children=(IntSlider(value=1, continuous_update=False, description='start_seg', max=15, min=1), Out…"
      ]
     },
     "metadata": {},
     "output_type": "display_data"
    }
   ],
   "source": [
    "corrected_empatica_3, empatica_3 = beat_correction(df=empatica_3, fs=fs_empatica, beats_ix=ppg_beats_empatica_3, seg_size=60)\n",
    "dv.plot_correction_interactive(data=empatica_3, colname='Filtered BVP', time_colname='Time', peak_colname_correction='Peak after correction', fs=fs_empatica, seg_sec=60)"
   ]
  },
  {
   "cell_type": "markdown",
   "metadata": {},
   "source": [
    "### <a id='toc1_5_4_'></a>[Noisy ECG](#toc0_)"
   ]
  },
  {
   "cell_type": "code",
   "execution_count": 31,
   "metadata": {},
   "outputs": [
    {
     "name": "stdout",
     "output_type": "stream",
     "text": [
      "Estimated average HR (bpm):  140\n"
     ]
    },
    {
     "data": {
      "application/vnd.jupyter.widget-view+json": {
       "model_id": "2606154fb9a1456994ebd7021d4be99d",
       "version_major": 2,
       "version_minor": 0
      },
      "text/plain": [
       "interactive(children=(IntSlider(value=1, continuous_update=False, description='start_seg', max=33, min=1), Out…"
      ]
     },
     "metadata": {},
     "output_type": "display_data"
    }
   ],
   "source": [
    "corrected_actiwave_1, noisy_actiwave_1 = beat_correction(df=noisy_actiwave_1, fs=fs_actiwave, beats_ix=ecg_beats_actiwave_1, seg_size=60)\n",
    "dv.plot_correction_interactive(data=noisy_actiwave_1, colname='Filtered ECG', time_colname='Timestamp', peak_colname_correction='Peak after correction', fs=fs_actiwave, seg_sec=60)"
   ]
  },
  {
   "cell_type": "markdown",
   "metadata": {},
   "source": [
    "### <a id='toc1_5_5_'></a>[Noisy ECG 2](#toc0_)"
   ]
  },
  {
   "cell_type": "code",
   "execution_count": 32,
   "metadata": {},
   "outputs": [
    {
     "name": "stdout",
     "output_type": "stream",
     "text": [
      "Estimated average HR (bpm):  90\n"
     ]
    },
    {
     "data": {
      "application/vnd.jupyter.widget-view+json": {
       "model_id": "649236e47ea04a2c97b679215cf1f026",
       "version_major": 2,
       "version_minor": 0
      },
      "text/plain": [
       "interactive(children=(IntSlider(value=1, continuous_update=False, description='start_seg', max=17, min=1), Out…"
      ]
     },
     "metadata": {},
     "output_type": "display_data"
    }
   ],
   "source": [
    "corrected_actiwave_2, noisy_actiwave_2 = beat_correction(df=noisy_actiwave_2, fs=fs_actiwave, beats_ix=ecg_beats_actiwave_2, seg_size=60)\n",
    "dv.plot_correction_interactive(data=noisy_actiwave_2, colname='Filtered ECG', time_colname='Timestamp', peak_colname_correction='Peak after correction', fs=fs_actiwave, seg_sec=60)"
   ]
  },
  {
   "cell_type": "markdown",
   "metadata": {},
   "source": [
    "### <a id='toc1_5_6_'></a>[Unusable ECG](#toc0_)"
   ]
  },
  {
   "cell_type": "code",
   "execution_count": 33,
   "metadata": {},
   "outputs": [
    {
     "name": "stdout",
     "output_type": "stream",
     "text": [
      "Estimated average HR (bpm):  121\n"
     ]
    },
    {
     "data": {
      "application/vnd.jupyter.widget-view+json": {
       "model_id": "e66be99afe314f8581022b0a1694c34f",
       "version_major": 2,
       "version_minor": 0
      },
      "text/plain": [
       "interactive(children=(IntSlider(value=1, continuous_update=False, description='start_seg', max=15, min=1), Out…"
      ]
     },
     "metadata": {},
     "output_type": "display_data"
    }
   ],
   "source": [
    "corrected_unusable_ecg, unusable_ecg = beat_correction(df=unusable_ecg, fs=fs_unusable_ecg, beats_ix=ecg_beats_unusable_ecg, seg_size=60)\n",
    "dv.plot_correction_interactive(data=unusable_ecg, colname='Filtered ECG', time_colname='Timestamp', peak_colname_correction='Peak after correction', fs=fs_unusable_ecg, seg_sec=60)"
   ]
  },
  {
   "cell_type": "markdown",
   "metadata": {},
   "source": [
    "## <a id='toc1_6_'></a>[**Visualize the association between acceleration data and signal quality**](#toc0_)\n",
    "\n",
    "Next, visualize the association between acceleration data (MIMS score) collected from devices and the signal quality to see how motion artifacts can impact signal quality, depending on datasets.\n",
    "\n",
    "> MIMS-unit is abbreviated for Monitor Independent Movement Summary unit. This measurement is developed to harmonize the processing of accelerometer data from different devices.\n",
    "\n",
    "MIMS scores were calculated using [MIMSunit package](https://mhealthgroup.github.io/MIMSunit/index.html) developed by mHealth Research Group at Northeastern University."
   ]
  },
  {
   "cell_type": "markdown",
   "metadata": {},
   "source": [
    "### <a id='toc1_6_1_'></a>[Noisy ECG](#toc0_)"
   ]
  },
  {
   "cell_type": "markdown",
   "metadata": {},
   "source": [
    "#### <a id='toc1_6_1_1_'></a>[Segment size = 300 seconds](#toc0_)\n",
    "\n",
    "First, take a look at a larger segment size to get a big picture."
   ]
  },
  {
   "cell_type": "code",
   "execution_count": 34,
   "metadata": {},
   "outputs": [
    {
     "data": {
      "application/vnd.jupyter.widget-view+json": {
       "model_id": "d39865bb51144bceae46a172202e0d9d",
       "version_major": 2,
       "version_minor": 0
      },
      "text/plain": [
       "interactive(children=(IntSlider(value=1, continuous_update=False, description='start_seg', max=7, min=1), Outp…"
      ]
     },
     "metadata": {},
     "output_type": "display_data"
    }
   ],
   "source": [
    "mims_actiwave_1 = pd.read_csv(mims_data_dir + mims_actiwave_1_file)\n",
    "mims_actiwave_1['HEADER_TIME_STAMP'] = pd.to_datetime(mims_actiwave_1['HEADER_TIME_STAMP'])\n",
    "dv.plot_mims_artifacts_interactive(data=noisy_actiwave_1, mims = mims_actiwave_1, colname='Filtered ECG', time_colname='Timestamp', artifacts_idx=artifacts_actiwave_1, peak_colname='Peak', fs=fs_actiwave, seg_sec=300, mims_threshold=0.1)"
   ]
  },
  {
   "cell_type": "markdown",
   "metadata": {},
   "source": [
    "#### <a id='toc1_6_1_2_'></a>[Segment size = 60 seconds](#toc0_)\n",
    "\n",
    "Zoom in to inspect more closely."
   ]
  },
  {
   "cell_type": "code",
   "execution_count": 35,
   "metadata": {},
   "outputs": [
    {
     "data": {
      "application/vnd.jupyter.widget-view+json": {
       "model_id": "f551ce3ef3bc41329c97c959929a3f86",
       "version_major": 2,
       "version_minor": 0
      },
      "text/plain": [
       "interactive(children=(IntSlider(value=1, continuous_update=False, description='start_seg', max=33, min=1), Out…"
      ]
     },
     "metadata": {},
     "output_type": "display_data"
    }
   ],
   "source": [
    "mims_actiwave_1 = pd.read_csv(mims_data_dir + mims_actiwave_1_file)\n",
    "mims_actiwave_1['HEADER_TIME_STAMP'] = pd.to_datetime(mims_actiwave_1['HEADER_TIME_STAMP'])\n",
    "dv.plot_mims_artifacts_interactive(data=noisy_actiwave_1, mims = mims_actiwave_1, colname='Filtered ECG', time_colname='Timestamp', artifacts_idx=artifacts_actiwave_1, peak_colname='Peak', fs=fs_actiwave, seg_sec=60, mims_threshold=0.1)"
   ]
  },
  {
   "cell_type": "markdown",
   "metadata": {},
   "source": [
    "### <a id='toc1_6_2_'></a>[Noisy ECG 2](#toc0_)"
   ]
  },
  {
   "cell_type": "markdown",
   "metadata": {},
   "source": [
    "#### <a id='toc1_6_2_1_'></a>[Segment size = 300 seconds](#toc0_)"
   ]
  },
  {
   "cell_type": "code",
   "execution_count": 36,
   "metadata": {},
   "outputs": [
    {
     "data": {
      "application/vnd.jupyter.widget-view+json": {
       "model_id": "bd9e98ec06a6412d93c4ff33f532f34c",
       "version_major": 2,
       "version_minor": 0
      },
      "text/plain": [
       "interactive(children=(IntSlider(value=1, continuous_update=False, description='start_seg', max=4, min=1), Outp…"
      ]
     },
     "metadata": {},
     "output_type": "display_data"
    }
   ],
   "source": [
    "mims_actiwave_2 = pd.read_csv(mims_data_dir + mims_actiwave_2_file)\n",
    "mims_actiwave_2['HEADER_TIME_STAMP'] = pd.to_datetime(mims_actiwave_2['HEADER_TIME_STAMP'])\n",
    "dv.plot_mims_artifacts_interactive(data=noisy_actiwave_2, mims = mims_actiwave_2, colname='Filtered ECG', time_colname='Timestamp', artifacts_idx=artifacts_actiwave_2, peak_colname='Peak', fs=fs_actiwave, seg_sec=300, mims_threshold=0.2)"
   ]
  },
  {
   "cell_type": "markdown",
   "metadata": {},
   "source": [
    "#### <a id='toc1_6_2_2_'></a>[Segment size = 60 seconds](#toc0_)\n",
    "\n",
    "Zoom in to inspect more closely."
   ]
  },
  {
   "cell_type": "code",
   "execution_count": 37,
   "metadata": {},
   "outputs": [
    {
     "data": {
      "application/vnd.jupyter.widget-view+json": {
       "model_id": "4a613db378a54a7da7270f08339160cd",
       "version_major": 2,
       "version_minor": 0
      },
      "text/plain": [
       "interactive(children=(IntSlider(value=1, continuous_update=False, description='start_seg', max=17, min=1), Out…"
      ]
     },
     "metadata": {},
     "output_type": "display_data"
    }
   ],
   "source": [
    "mims_actiwave_2 = pd.read_csv(mims_data_dir + mims_actiwave_2_file)\n",
    "mims_actiwave_2['HEADER_TIME_STAMP'] = pd.to_datetime(mims_actiwave_2['HEADER_TIME_STAMP'])\n",
    "dv.plot_mims_artifacts_interactive(data=noisy_actiwave_2, mims = mims_actiwave_2, colname='Filtered ECG', time_colname='Timestamp', artifacts_idx=artifacts_actiwave_2, peak_colname='Peak', fs=fs_actiwave, seg_sec=60, mims_threshold=0.2)"
   ]
  },
  {
   "cell_type": "markdown",
   "metadata": {},
   "source": [
    "### <a id='toc1_6_3_'></a>[Unusable ECG](#toc0_)"
   ]
  },
  {
   "cell_type": "markdown",
   "metadata": {},
   "source": [
    "#### <a id='toc1_6_3_1_'></a>[Segment size = 300 seconds](#toc0_)"
   ]
  },
  {
   "cell_type": "code",
   "execution_count": 38,
   "metadata": {},
   "outputs": [
    {
     "data": {
      "application/vnd.jupyter.widget-view+json": {
       "model_id": "2d013a8c3ab64b3780e466c6fb93b8ab",
       "version_major": 2,
       "version_minor": 0
      },
      "text/plain": [
       "interactive(children=(IntSlider(value=1, continuous_update=False, description='start_seg', max=3, min=1), Outp…"
      ]
     },
     "metadata": {},
     "output_type": "display_data"
    }
   ],
   "source": [
    "mims_unusable_ecg = pd.read_csv(mims_data_dir + mims_unusable_ecg_file)\n",
    "mims_unusable_ecg['HEADER_TIME_STAMP'] = pd.to_datetime(mims_unusable_ecg['HEADER_TIME_STAMP'])\n",
    "dv.plot_mims_artifacts_interactive(data=unusable_ecg, mims = mims_unusable_ecg, colname='Filtered ECG', time_colname='Timestamp', artifacts_idx=artifacts_unusable_ecg, peak_colname='Peak', fs=fs_unusable_ecg, seg_sec=300, mims_threshold=0.2)"
   ]
  },
  {
   "cell_type": "markdown",
   "metadata": {},
   "source": [
    "#### <a id='toc1_6_3_2_'></a>[Segment size = 60 seconds](#toc0_)\n",
    "\n",
    "Zoom in to inspect more closely."
   ]
  },
  {
   "cell_type": "code",
   "execution_count": 39,
   "metadata": {},
   "outputs": [
    {
     "data": {
      "application/vnd.jupyter.widget-view+json": {
       "model_id": "a3a5e75a2715480ba8f1a8e8b4625562",
       "version_major": 2,
       "version_minor": 0
      },
      "text/plain": [
       "interactive(children=(IntSlider(value=1, continuous_update=False, description='start_seg', max=15, min=1), Out…"
      ]
     },
     "metadata": {},
     "output_type": "display_data"
    }
   ],
   "source": [
    "mims_unusable_ecg = pd.read_csv(mims_data_dir + mims_unusable_ecg_file)\n",
    "mims_unusable_ecg['HEADER_TIME_STAMP'] = pd.to_datetime(mims_unusable_ecg['HEADER_TIME_STAMP'])\n",
    "dv.plot_mims_artifacts_interactive(data=unusable_ecg, mims = mims_unusable_ecg, colname='Filtered ECG', time_colname='Timestamp', artifacts_idx=artifacts_unusable_ecg, peak_colname='Peak', fs=fs_unusable_ecg, seg_sec=60, mims_threshold=0.2)"
   ]
  },
  {
   "cell_type": "markdown",
   "metadata": {},
   "source": [
    "## <a id='toc1_7_'></a>[**Visualize the association between acceleration data and beat correction**](#toc0_)"
   ]
  },
  {
   "cell_type": "markdown",
   "metadata": {},
   "source": [
    "### <a id='toc1_7_1_'></a>[Noisy ECG](#toc0_)"
   ]
  },
  {
   "cell_type": "markdown",
   "metadata": {},
   "source": [
    "#### <a id='toc1_7_1_1_'></a>[Segment size = 300 seconds](#toc0_)\n",
    "\n",
    "First, take a look at a larger segment size to get a big picture."
   ]
  },
  {
   "cell_type": "code",
   "execution_count": 40,
   "metadata": {},
   "outputs": [
    {
     "data": {
      "application/vnd.jupyter.widget-view+json": {
       "model_id": "89ff4411aa24403fb33caa5bf82a3b91",
       "version_major": 2,
       "version_minor": 0
      },
      "text/plain": [
       "interactive(children=(IntSlider(value=1, continuous_update=False, description='start_seg', max=7, min=1), Outp…"
      ]
     },
     "metadata": {},
     "output_type": "display_data"
    }
   ],
   "source": [
    "dv.plot_mims_correction_interactive(data=noisy_actiwave_1, mims = mims_actiwave_1, colname='Filtered ECG', time_colname='Timestamp', peak_colname='Peak', peak_colname_correction='Peak after correction', fs=fs_actiwave, seg_sec=300, mims_threshold=0.2)"
   ]
  },
  {
   "cell_type": "markdown",
   "metadata": {},
   "source": [
    "#### <a id='toc1_7_1_2_'></a>[Segment size = 60 seconds](#toc0_)\n",
    "\n",
    "Zoom in to inspect more closely."
   ]
  },
  {
   "cell_type": "code",
   "execution_count": 41,
   "metadata": {},
   "outputs": [
    {
     "data": {
      "application/vnd.jupyter.widget-view+json": {
       "model_id": "b8dcf78086f44eefbee828995b4c0d60",
       "version_major": 2,
       "version_minor": 0
      },
      "text/plain": [
       "interactive(children=(IntSlider(value=1, continuous_update=False, description='start_seg', max=33, min=1), Out…"
      ]
     },
     "metadata": {},
     "output_type": "display_data"
    }
   ],
   "source": [
    "dv.plot_mims_correction_interactive(data=noisy_actiwave_1, mims = mims_actiwave_1, colname='Filtered ECG', time_colname='Timestamp', peak_colname='Peak', peak_colname_correction='Peak after correction', fs=fs_actiwave, seg_sec=60, mims_threshold=0.2)"
   ]
  },
  {
   "cell_type": "markdown",
   "metadata": {},
   "source": [
    "### <a id='toc1_7_2_'></a>[Noisy ECG 2](#toc0_)"
   ]
  },
  {
   "cell_type": "markdown",
   "metadata": {},
   "source": [
    "#### <a id='toc1_7_2_1_'></a>[Segment size = 300 seconds](#toc0_)\n",
    "\n",
    "First, take a look at a larger segment size to get a big picture."
   ]
  },
  {
   "cell_type": "code",
   "execution_count": 42,
   "metadata": {},
   "outputs": [
    {
     "data": {
      "application/vnd.jupyter.widget-view+json": {
       "model_id": "1697d8aff3a7404892d0564b613348c3",
       "version_major": 2,
       "version_minor": 0
      },
      "text/plain": [
       "interactive(children=(IntSlider(value=1, continuous_update=False, description='start_seg', max=4, min=1), Outp…"
      ]
     },
     "metadata": {},
     "output_type": "display_data"
    }
   ],
   "source": [
    "dv.plot_mims_correction_interactive(data=noisy_actiwave_2, mims = mims_actiwave_2, colname='Filtered ECG', time_colname='Timestamp', peak_colname='Peak', peak_colname_correction='Peak after correction', fs=fs_actiwave, seg_sec=300, mims_threshold=0.2)"
   ]
  },
  {
   "cell_type": "markdown",
   "metadata": {},
   "source": [
    "#### <a id='toc1_7_2_2_'></a>[Segment size = 60 seconds](#toc0_)\n",
    "\n",
    "Zoom in to inspect more closely."
   ]
  },
  {
   "cell_type": "code",
   "execution_count": 43,
   "metadata": {},
   "outputs": [
    {
     "data": {
      "application/vnd.jupyter.widget-view+json": {
       "model_id": "560e73ed0dc84c5fb522c707ac218458",
       "version_major": 2,
       "version_minor": 0
      },
      "text/plain": [
       "interactive(children=(IntSlider(value=1, continuous_update=False, description='start_seg', max=17, min=1), Out…"
      ]
     },
     "metadata": {},
     "output_type": "display_data"
    }
   ],
   "source": [
    "dv.plot_mims_correction_interactive(data=noisy_actiwave_2, mims = mims_actiwave_2, colname='Filtered ECG', time_colname='Timestamp', peak_colname='Peak', peak_colname_correction='Peak after correction', fs=fs_actiwave, seg_sec=60, mims_threshold=0.2)"
   ]
  },
  {
   "cell_type": "markdown",
   "metadata": {},
   "source": [
    "### <a id='toc1_7_3_'></a>[Unusable ECG](#toc0_)"
   ]
  },
  {
   "cell_type": "markdown",
   "metadata": {},
   "source": [
    "#### <a id='toc1_7_3_1_'></a>[Segment size = 300 seconds](#toc0_)\n",
    "\n",
    "First, take a look at a larger segment size to get a big picture."
   ]
  },
  {
   "cell_type": "code",
   "execution_count": 44,
   "metadata": {},
   "outputs": [
    {
     "data": {
      "application/vnd.jupyter.widget-view+json": {
       "model_id": "2245154da83940cc992605ebd65209e7",
       "version_major": 2,
       "version_minor": 0
      },
      "text/plain": [
       "interactive(children=(IntSlider(value=1, continuous_update=False, description='start_seg', max=3, min=1), Outp…"
      ]
     },
     "metadata": {},
     "output_type": "display_data"
    }
   ],
   "source": [
    "dv.plot_mims_correction_interactive(data=unusable_ecg, mims = mims_unusable_ecg, colname='Filtered ECG', time_colname='Timestamp', peak_colname='Peak', peak_colname_correction='Peak after correction', fs=fs_unusable_ecg, seg_sec=300, mims_threshold=0.2)"
   ]
  },
  {
   "cell_type": "markdown",
   "metadata": {},
   "source": [
    "#### <a id='toc1_7_3_2_'></a>[Segment size = 60 seconds](#toc0_)\n",
    "\n",
    "Zoom in to inspect more closely."
   ]
  },
  {
   "cell_type": "code",
   "execution_count": 45,
   "metadata": {},
   "outputs": [
    {
     "data": {
      "application/vnd.jupyter.widget-view+json": {
       "model_id": "1623cc7d213845e28e48011158a86d85",
       "version_major": 2,
       "version_minor": 0
      },
      "text/plain": [
       "interactive(children=(IntSlider(value=1, continuous_update=False, description='start_seg', max=15, min=1), Out…"
      ]
     },
     "metadata": {},
     "output_type": "display_data"
    }
   ],
   "source": [
    "dv.plot_mims_correction_interactive(data=unusable_ecg, mims = mims_unusable_ecg, colname='Filtered ECG', time_colname='Timestamp', peak_colname='Peak', peak_colname_correction='Peak after correction', fs=fs_unusable_ecg, seg_sec=60, mims_threshold=0.2)"
   ]
  },
  {
   "cell_type": "markdown",
   "metadata": {},
   "source": [
    "## <a id='toc1_8_'></a>[**Compare ECG and PPG signals from the same session**](#toc0_)\n",
    "\n",
    "In the following example, we use PPG and ECG data for the same participant and session in the WESAD dataset. \n",
    "\n",
    "Here, ECG signals are used as ground truth to evaluate the quality of PPG signals and correction performance. We followed Charlton et al.'s method to compare beat locations between ECG and PPG signals and marked beats as \"agreement\" when PPG beat locations fell within 150 ms from ECG beat locations.\n",
    "\n",
    "Reference:\n",
    "> Schmidt, P., Reiss, A., Duerichen, R., Marberger, C., & Van Laerhoven, K. (2018). Introducing WESAD, a multimodal dataset for wearable stress and affect detection. Proceedings of the 20th ACM International Conference on Multimodal Interaction, 400–408.\n",
    "\n",
    "> Charlton, P. H., Kotzen, K., Mejía-Mejía, E., Aston, P. J., Budidha, K., Mant, J., Pettit, C., Behar, J. A., & Kyriacou, P. A. (2022). Detecting beats in the photoplethysmogram: benchmarking open-source algorithms. Physiological Measurement, 43(8). https://doi.org/10.1088/1361-6579/ac826d\n",
    "\n"
   ]
  },
  {
   "cell_type": "code",
   "execution_count": 46,
   "metadata": {},
   "outputs": [
    {
     "data": {
      "text/html": [
       "<div>\n",
       "<style scoped>\n",
       "    .dataframe tbody tr th:only-of-type {\n",
       "        vertical-align: middle;\n",
       "    }\n",
       "\n",
       "    .dataframe tbody tr th {\n",
       "        vertical-align: top;\n",
       "    }\n",
       "\n",
       "    .dataframe thead th {\n",
       "        text-align: right;\n",
       "    }\n",
       "</style>\n",
       "<table border=\"1\" class=\"dataframe\">\n",
       "  <thead>\n",
       "    <tr style=\"text-align: right;\">\n",
       "      <th></th>\n",
       "      <th>BVP</th>\n",
       "      <th>ACC_x</th>\n",
       "      <th>ACC_y</th>\n",
       "      <th>ACC_z</th>\n",
       "      <th>Timestamp</th>\n",
       "      <th>Label</th>\n",
       "      <th>Filtered</th>\n",
       "      <th>Peak</th>\n",
       "    </tr>\n",
       "  </thead>\n",
       "  <tbody>\n",
       "    <tr>\n",
       "      <th>0</th>\n",
       "      <td>4.72</td>\n",
       "      <td>NaN</td>\n",
       "      <td>NaN</td>\n",
       "      <td>NaN</td>\n",
       "      <td>2017-07-25 14:41:31.859375</td>\n",
       "      <td>3</td>\n",
       "      <td>5.347591</td>\n",
       "      <td>NaN</td>\n",
       "    </tr>\n",
       "    <tr>\n",
       "      <th>1</th>\n",
       "      <td>4.58</td>\n",
       "      <td>-6.0</td>\n",
       "      <td>-7.0</td>\n",
       "      <td>63.0</td>\n",
       "      <td>2017-07-25 14:41:31.875000</td>\n",
       "      <td>3</td>\n",
       "      <td>6.180398</td>\n",
       "      <td>NaN</td>\n",
       "    </tr>\n",
       "    <tr>\n",
       "      <th>2</th>\n",
       "      <td>4.43</td>\n",
       "      <td>NaN</td>\n",
       "      <td>NaN</td>\n",
       "      <td>NaN</td>\n",
       "      <td>2017-07-25 14:41:31.890625</td>\n",
       "      <td>3</td>\n",
       "      <td>6.774856</td>\n",
       "      <td>NaN</td>\n",
       "    </tr>\n",
       "    <tr>\n",
       "      <th>3</th>\n",
       "      <td>4.40</td>\n",
       "      <td>-6.0</td>\n",
       "      <td>-7.0</td>\n",
       "      <td>63.0</td>\n",
       "      <td>2017-07-25 14:41:31.906250</td>\n",
       "      <td>3</td>\n",
       "      <td>7.142300</td>\n",
       "      <td>NaN</td>\n",
       "    </tr>\n",
       "    <tr>\n",
       "      <th>4</th>\n",
       "      <td>4.53</td>\n",
       "      <td>NaN</td>\n",
       "      <td>NaN</td>\n",
       "      <td>NaN</td>\n",
       "      <td>2017-07-25 14:41:31.921875</td>\n",
       "      <td>3</td>\n",
       "      <td>7.315290</td>\n",
       "      <td>NaN</td>\n",
       "    </tr>\n",
       "    <tr>\n",
       "      <th>...</th>\n",
       "      <td>...</td>\n",
       "      <td>...</td>\n",
       "      <td>...</td>\n",
       "      <td>...</td>\n",
       "      <td>...</td>\n",
       "      <td>...</td>\n",
       "      <td>...</td>\n",
       "      <td>...</td>\n",
       "    </tr>\n",
       "    <tr>\n",
       "      <th>23554</th>\n",
       "      <td>-8.48</td>\n",
       "      <td>NaN</td>\n",
       "      <td>NaN</td>\n",
       "      <td>NaN</td>\n",
       "      <td>2017-07-25 14:47:39.890625</td>\n",
       "      <td>3</td>\n",
       "      <td>-11.881672</td>\n",
       "      <td>NaN</td>\n",
       "    </tr>\n",
       "    <tr>\n",
       "      <th>23555</th>\n",
       "      <td>-3.94</td>\n",
       "      <td>3.0</td>\n",
       "      <td>-57.0</td>\n",
       "      <td>26.0</td>\n",
       "      <td>2017-07-25 14:47:39.906250</td>\n",
       "      <td>3</td>\n",
       "      <td>-9.927519</td>\n",
       "      <td>NaN</td>\n",
       "    </tr>\n",
       "    <tr>\n",
       "      <th>23556</th>\n",
       "      <td>0.77</td>\n",
       "      <td>NaN</td>\n",
       "      <td>NaN</td>\n",
       "      <td>NaN</td>\n",
       "      <td>2017-07-25 14:47:39.921875</td>\n",
       "      <td>3</td>\n",
       "      <td>-7.788052</td>\n",
       "      <td>NaN</td>\n",
       "    </tr>\n",
       "    <tr>\n",
       "      <th>23557</th>\n",
       "      <td>5.32</td>\n",
       "      <td>3.0</td>\n",
       "      <td>-57.0</td>\n",
       "      <td>26.0</td>\n",
       "      <td>2017-07-25 14:47:39.937500</td>\n",
       "      <td>3</td>\n",
       "      <td>-5.514005</td>\n",
       "      <td>NaN</td>\n",
       "    </tr>\n",
       "    <tr>\n",
       "      <th>23558</th>\n",
       "      <td>9.41</td>\n",
       "      <td>NaN</td>\n",
       "      <td>NaN</td>\n",
       "      <td>NaN</td>\n",
       "      <td>2017-07-25 14:47:39.953125</td>\n",
       "      <td>3</td>\n",
       "      <td>-3.161726</td>\n",
       "      <td>NaN</td>\n",
       "    </tr>\n",
       "  </tbody>\n",
       "</table>\n",
       "<p>23559 rows × 8 columns</p>\n",
       "</div>"
      ],
      "text/plain": [
       "        BVP  ACC_x  ACC_y  ACC_z                   Timestamp  Label  \\\n",
       "0      4.72    NaN    NaN    NaN  2017-07-25 14:41:31.859375      3   \n",
       "1      4.58   -6.0   -7.0   63.0  2017-07-25 14:41:31.875000      3   \n",
       "2      4.43    NaN    NaN    NaN  2017-07-25 14:41:31.890625      3   \n",
       "3      4.40   -6.0   -7.0   63.0  2017-07-25 14:41:31.906250      3   \n",
       "4      4.53    NaN    NaN    NaN  2017-07-25 14:41:31.921875      3   \n",
       "...     ...    ...    ...    ...                         ...    ...   \n",
       "23554 -8.48    NaN    NaN    NaN  2017-07-25 14:47:39.890625      3   \n",
       "23555 -3.94    3.0  -57.0   26.0  2017-07-25 14:47:39.906250      3   \n",
       "23556  0.77    NaN    NaN    NaN  2017-07-25 14:47:39.921875      3   \n",
       "23557  5.32    3.0  -57.0   26.0  2017-07-25 14:47:39.937500      3   \n",
       "23558  9.41    NaN    NaN    NaN  2017-07-25 14:47:39.953125      3   \n",
       "\n",
       "        Filtered  Peak  \n",
       "0       5.347591   NaN  \n",
       "1       6.180398   NaN  \n",
       "2       6.774856   NaN  \n",
       "3       7.142300   NaN  \n",
       "4       7.315290   NaN  \n",
       "...          ...   ...  \n",
       "23554 -11.881672   NaN  \n",
       "23555  -9.927519   NaN  \n",
       "23556  -7.788052   NaN  \n",
       "23557  -5.514005   NaN  \n",
       "23558  -3.161726   NaN  \n",
       "\n",
       "[23559 rows x 8 columns]"
      ]
     },
     "execution_count": 46,
     "metadata": {},
     "output_type": "execute_result"
    }
   ],
   "source": [
    "# Read PPG data\n",
    "fs_wesad_ppg = 64\n",
    "wesad_ppg = pd.read_csv('./data/wesad_ppg.csv')\n",
    "wesad_ppg"
   ]
  },
  {
   "cell_type": "code",
   "execution_count": 47,
   "metadata": {},
   "outputs": [
    {
     "data": {
      "text/html": [
       "<div>\n",
       "<style scoped>\n",
       "    .dataframe tbody tr th:only-of-type {\n",
       "        vertical-align: middle;\n",
       "    }\n",
       "\n",
       "    .dataframe tbody tr th {\n",
       "        vertical-align: top;\n",
       "    }\n",
       "\n",
       "    .dataframe thead th {\n",
       "        text-align: right;\n",
       "    }\n",
       "</style>\n",
       "<table border=\"1\" class=\"dataframe\">\n",
       "  <thead>\n",
       "    <tr style=\"text-align: right;\">\n",
       "      <th></th>\n",
       "      <th>Timestamp</th>\n",
       "      <th>ECG</th>\n",
       "      <th>Filtered</th>\n",
       "      <th>Peak</th>\n",
       "      <th>Label</th>\n",
       "    </tr>\n",
       "  </thead>\n",
       "  <tbody>\n",
       "    <tr>\n",
       "      <th>0</th>\n",
       "      <td>2017-07-25 14:41:31.857173</td>\n",
       "      <td>-0.066788</td>\n",
       "      <td>-0.061821</td>\n",
       "      <td>NaN</td>\n",
       "      <td>3</td>\n",
       "    </tr>\n",
       "    <tr>\n",
       "      <th>1</th>\n",
       "      <td>2017-07-25 14:41:31.858602</td>\n",
       "      <td>-0.064133</td>\n",
       "      <td>-0.061818</td>\n",
       "      <td>NaN</td>\n",
       "      <td>3</td>\n",
       "    </tr>\n",
       "    <tr>\n",
       "      <th>2</th>\n",
       "      <td>2017-07-25 14:41:31.860031</td>\n",
       "      <td>-0.060287</td>\n",
       "      <td>-0.061758</td>\n",
       "      <td>NaN</td>\n",
       "      <td>3</td>\n",
       "    </tr>\n",
       "    <tr>\n",
       "      <th>3</th>\n",
       "      <td>2017-07-25 14:41:31.861460</td>\n",
       "      <td>-0.060379</td>\n",
       "      <td>-0.061647</td>\n",
       "      <td>NaN</td>\n",
       "      <td>3</td>\n",
       "    </tr>\n",
       "    <tr>\n",
       "      <th>4</th>\n",
       "      <td>2017-07-25 14:41:31.862889</td>\n",
       "      <td>-0.062943</td>\n",
       "      <td>-0.061489</td>\n",
       "      <td>NaN</td>\n",
       "      <td>3</td>\n",
       "    </tr>\n",
       "    <tr>\n",
       "      <th>...</th>\n",
       "      <td>...</td>\n",
       "      <td>...</td>\n",
       "      <td>...</td>\n",
       "      <td>...</td>\n",
       "      <td>...</td>\n",
       "    </tr>\n",
       "    <tr>\n",
       "      <th>257595</th>\n",
       "      <td>2017-07-25 14:47:39.960428</td>\n",
       "      <td>-0.090500</td>\n",
       "      <td>-0.097039</td>\n",
       "      <td>NaN</td>\n",
       "      <td>3</td>\n",
       "    </tr>\n",
       "    <tr>\n",
       "      <th>257596</th>\n",
       "      <td>2017-07-25 14:47:39.961857</td>\n",
       "      <td>-0.092789</td>\n",
       "      <td>-0.100334</td>\n",
       "      <td>NaN</td>\n",
       "      <td>3</td>\n",
       "    </tr>\n",
       "    <tr>\n",
       "      <th>257597</th>\n",
       "      <td>2017-07-25 14:47:39.963286</td>\n",
       "      <td>-0.095947</td>\n",
       "      <td>-0.103266</td>\n",
       "      <td>NaN</td>\n",
       "      <td>3</td>\n",
       "    </tr>\n",
       "    <tr>\n",
       "      <th>257598</th>\n",
       "      <td>2017-07-25 14:47:39.964715</td>\n",
       "      <td>-0.099655</td>\n",
       "      <td>-0.105843</td>\n",
       "      <td>NaN</td>\n",
       "      <td>3</td>\n",
       "    </tr>\n",
       "    <tr>\n",
       "      <th>257599</th>\n",
       "      <td>2017-07-25 14:47:39.966144</td>\n",
       "      <td>-0.100662</td>\n",
       "      <td>-0.108073</td>\n",
       "      <td>NaN</td>\n",
       "      <td>3</td>\n",
       "    </tr>\n",
       "  </tbody>\n",
       "</table>\n",
       "<p>257600 rows × 5 columns</p>\n",
       "</div>"
      ],
      "text/plain": [
       "                         Timestamp       ECG  Filtered  Peak  Label\n",
       "0       2017-07-25 14:41:31.857173 -0.066788 -0.061821   NaN      3\n",
       "1       2017-07-25 14:41:31.858602 -0.064133 -0.061818   NaN      3\n",
       "2       2017-07-25 14:41:31.860031 -0.060287 -0.061758   NaN      3\n",
       "3       2017-07-25 14:41:31.861460 -0.060379 -0.061647   NaN      3\n",
       "4       2017-07-25 14:41:31.862889 -0.062943 -0.061489   NaN      3\n",
       "...                            ...       ...       ...   ...    ...\n",
       "257595  2017-07-25 14:47:39.960428 -0.090500 -0.097039   NaN      3\n",
       "257596  2017-07-25 14:47:39.961857 -0.092789 -0.100334   NaN      3\n",
       "257597  2017-07-25 14:47:39.963286 -0.095947 -0.103266   NaN      3\n",
       "257598  2017-07-25 14:47:39.964715 -0.099655 -0.105843   NaN      3\n",
       "257599  2017-07-25 14:47:39.966144 -0.100662 -0.108073   NaN      3\n",
       "\n",
       "[257600 rows x 5 columns]"
      ]
     },
     "execution_count": 47,
     "metadata": {},
     "output_type": "execute_result"
    }
   ],
   "source": [
    "# Read ECG data\n",
    "fs_wesad_ecg = 700\n",
    "wesad_ecg = pd.read_csv('./data/wesad_ecg.csv')\n",
    "wesad_ecg"
   ]
  },
  {
   "cell_type": "code",
   "execution_count": 48,
   "metadata": {},
   "outputs": [
    {
     "data": {
      "text/html": [
       "<div>\n",
       "<style scoped>\n",
       "    .dataframe tbody tr th:only-of-type {\n",
       "        vertical-align: middle;\n",
       "    }\n",
       "\n",
       "    .dataframe tbody tr th {\n",
       "        vertical-align: top;\n",
       "    }\n",
       "\n",
       "    .dataframe thead th {\n",
       "        text-align: right;\n",
       "    }\n",
       "</style>\n",
       "<table border=\"1\" class=\"dataframe\">\n",
       "  <thead>\n",
       "    <tr style=\"text-align: right;\">\n",
       "      <th></th>\n",
       "      <th>Timestamp</th>\n",
       "      <th>MIMS_UNIT</th>\n",
       "      <th>MIMS_UNIT_X</th>\n",
       "      <th>MIMS_UNIT_Y</th>\n",
       "      <th>MIMS_UNIT_Z</th>\n",
       "    </tr>\n",
       "  </thead>\n",
       "  <tbody>\n",
       "    <tr>\n",
       "      <th>0</th>\n",
       "      <td>2017-07-25 14:41:32.000500</td>\n",
       "      <td>0.000000</td>\n",
       "      <td>0.000000</td>\n",
       "      <td>0.0</td>\n",
       "      <td>0.000000</td>\n",
       "    </tr>\n",
       "    <tr>\n",
       "      <th>1</th>\n",
       "      <td>2017-07-25 14:41:33.000500</td>\n",
       "      <td>0.000000</td>\n",
       "      <td>0.000000</td>\n",
       "      <td>0.0</td>\n",
       "      <td>0.000000</td>\n",
       "    </tr>\n",
       "    <tr>\n",
       "      <th>2</th>\n",
       "      <td>2017-07-25 14:41:34.000500</td>\n",
       "      <td>0.000000</td>\n",
       "      <td>0.000000</td>\n",
       "      <td>0.0</td>\n",
       "      <td>0.000000</td>\n",
       "    </tr>\n",
       "    <tr>\n",
       "      <th>3</th>\n",
       "      <td>2017-07-25 14:41:35.000500</td>\n",
       "      <td>0.000000</td>\n",
       "      <td>0.000000</td>\n",
       "      <td>0.0</td>\n",
       "      <td>0.000000</td>\n",
       "    </tr>\n",
       "    <tr>\n",
       "      <th>4</th>\n",
       "      <td>2017-07-25 14:41:36.000500</td>\n",
       "      <td>0.000000</td>\n",
       "      <td>0.000000</td>\n",
       "      <td>0.0</td>\n",
       "      <td>0.000000</td>\n",
       "    </tr>\n",
       "    <tr>\n",
       "      <th>...</th>\n",
       "      <td>...</td>\n",
       "      <td>...</td>\n",
       "      <td>...</td>\n",
       "      <td>...</td>\n",
       "      <td>...</td>\n",
       "    </tr>\n",
       "    <tr>\n",
       "      <th>363</th>\n",
       "      <td>2017-07-25 14:47:35.000500</td>\n",
       "      <td>0.027309</td>\n",
       "      <td>0.014661</td>\n",
       "      <td>0.0</td>\n",
       "      <td>0.012648</td>\n",
       "    </tr>\n",
       "    <tr>\n",
       "      <th>364</th>\n",
       "      <td>2017-07-25 14:47:36.000500</td>\n",
       "      <td>0.010726</td>\n",
       "      <td>0.010726</td>\n",
       "      <td>0.0</td>\n",
       "      <td>0.000000</td>\n",
       "    </tr>\n",
       "    <tr>\n",
       "      <th>365</th>\n",
       "      <td>2017-07-25 14:47:37.000500</td>\n",
       "      <td>0.012398</td>\n",
       "      <td>0.012398</td>\n",
       "      <td>0.0</td>\n",
       "      <td>0.000000</td>\n",
       "    </tr>\n",
       "    <tr>\n",
       "      <th>366</th>\n",
       "      <td>2017-07-25 14:47:38.000500</td>\n",
       "      <td>0.000000</td>\n",
       "      <td>0.000000</td>\n",
       "      <td>0.0</td>\n",
       "      <td>0.000000</td>\n",
       "    </tr>\n",
       "    <tr>\n",
       "      <th>367</th>\n",
       "      <td>2017-07-25 14:47:39.000500</td>\n",
       "      <td>0.000000</td>\n",
       "      <td>0.000000</td>\n",
       "      <td>0.0</td>\n",
       "      <td>0.000000</td>\n",
       "    </tr>\n",
       "  </tbody>\n",
       "</table>\n",
       "<p>368 rows × 5 columns</p>\n",
       "</div>"
      ],
      "text/plain": [
       "                      Timestamp  MIMS_UNIT  MIMS_UNIT_X  MIMS_UNIT_Y  \\\n",
       "0    2017-07-25 14:41:32.000500   0.000000     0.000000          0.0   \n",
       "1    2017-07-25 14:41:33.000500   0.000000     0.000000          0.0   \n",
       "2    2017-07-25 14:41:34.000500   0.000000     0.000000          0.0   \n",
       "3    2017-07-25 14:41:35.000500   0.000000     0.000000          0.0   \n",
       "4    2017-07-25 14:41:36.000500   0.000000     0.000000          0.0   \n",
       "..                          ...        ...          ...          ...   \n",
       "363  2017-07-25 14:47:35.000500   0.027309     0.014661          0.0   \n",
       "364  2017-07-25 14:47:36.000500   0.010726     0.010726          0.0   \n",
       "365  2017-07-25 14:47:37.000500   0.012398     0.012398          0.0   \n",
       "366  2017-07-25 14:47:38.000500   0.000000     0.000000          0.0   \n",
       "367  2017-07-25 14:47:39.000500   0.000000     0.000000          0.0   \n",
       "\n",
       "     MIMS_UNIT_Z  \n",
       "0       0.000000  \n",
       "1       0.000000  \n",
       "2       0.000000  \n",
       "3       0.000000  \n",
       "4       0.000000  \n",
       "..           ...  \n",
       "363     0.012648  \n",
       "364     0.000000  \n",
       "365     0.000000  \n",
       "366     0.000000  \n",
       "367     0.000000  \n",
       "\n",
       "[368 rows x 5 columns]"
      ]
     },
     "execution_count": 48,
     "metadata": {},
     "output_type": "execute_result"
    }
   ],
   "source": [
    "# Read MIMS data\n",
    "wesad_mims = pd.read_csv('./data/MIMS/wesad_mims.csv')\n",
    "wesad_mims"
   ]
  },
  {
   "cell_type": "code",
   "execution_count": 49,
   "metadata": {},
   "outputs": [
    {
     "name": "stdout",
     "output_type": "stream",
     "text": [
      "Estimated average HR (bpm):  72\n"
     ]
    }
   ],
   "source": [
    "# Correct beats\n",
    "wesad_beats_ix = wesad_ppg.loc[wesad_ppg['Peak'] == 1].index\n",
    "corrected_wesad_ppg, wesad_ppg = beat_correction(df=wesad_ppg, fs=fs_wesad_ppg, beats_ix=wesad_beats_ix, seg_size=60)"
   ]
  },
  {
   "cell_type": "code",
   "execution_count": 50,
   "metadata": {},
   "outputs": [],
   "source": [
    "# Convert Timestamp to datetime\n",
    "wesad_ppg['Timestamp'] = pd.to_datetime(wesad_ppg['Timestamp'])\n",
    "wesad_ecg['Timestamp'] = pd.to_datetime(wesad_ecg['Timestamp'])\n",
    "# Compare beat locations between ECG and PPG\n",
    "result_df, df_ppg_combined, df_ecg_combined = sqa.compare_beat_locations_Charlton(df_ppg=wesad_ppg, df_ecg=wesad_ecg, lag_type='best')"
   ]
  },
  {
   "cell_type": "code",
   "execution_count": 51,
   "metadata": {},
   "outputs": [
    {
     "data": {
      "application/vnd.jupyter.widget-view+json": {
       "model_id": "e8c421076e1e473d8d940a1f67e70cce",
       "version_major": 2,
       "version_minor": 0
      },
      "text/plain": [
       "interactive(children=(IntSlider(value=1, continuous_update=False, description='start_seg', max=7, min=1), Outp…"
      ]
     },
     "metadata": {},
     "output_type": "display_data"
    }
   ],
   "source": [
    "# Plot ECG/PPG beats and beat location agreement along with accelerometer data\n",
    "wesad_mims = wesad_mims.rename(columns={'Timestamp': 'HEADER_TIME_STAMP'})\n",
    "wesad_mims['HEADER_TIME_STAMP'] = pd.to_datetime(wesad_mims['HEADER_TIME_STAMP'])\n",
    "dv.plot_correct(df_ppg=df_ppg_combined, df_ecg=df_ecg_combined, fs_ppg=fs_wesad_ppg, fs_ecg=fs_wesad_ecg, plot_acc=True, plot_mims=True, mims=wesad_mims, mims_threshold=0.2, seg_size=60)"
   ]
  }
 ],
 "metadata": {
  "kernelspec": {
   "display_name": ".venv",
   "language": "python",
   "name": "python3"
  },
  "language_info": {
   "codemirror_mode": {
    "name": "ipython",
    "version": 3
   },
   "file_extension": ".py",
   "mimetype": "text/x-python",
   "name": "python",
   "nbconvert_exporter": "python",
   "pygments_lexer": "ipython3",
   "version": "3.12.4"
  }
 },
 "nbformat": 4,
 "nbformat_minor": 2
}
